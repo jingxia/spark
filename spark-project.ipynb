{
 "cells": [
  {
   "cell_type": "code",
   "execution_count": 2,
   "metadata": {
    "collapsed": false
   },
   "outputs": [
    {
     "name": "stdout",
     "output_type": "stream",
     "text": []
    },
    {
     "name": "stderr",
     "output_type": "stream",
     "text": []
    }
   ],
   "source": [
    "// //package stackoverflow\n",
    "// import org.apache.spark.SparkContext\n",
    "// import org.apache.spark.SparkContext._\n",
    "// import org.apache.spark.SparkConf\n",
    "// import org.apache.spark.rdd.RDD\n",
    "// import scala.xml._"
   ]
  },
  {
   "cell_type": "code",
   "execution_count": 3,
   "metadata": {
    "collapsed": false
   },
   "outputs": [
    {
     "name": "stdout",
     "output_type": "stream",
     "text": []
    },
    {
     "name": "stderr",
     "output_type": "stream",
     "text": []
    },
    {
     "ename": "org.apache.spark.SparkException",
     "evalue": "A master URL must be set in your configuration",
     "output_type": "error",
     "traceback": [
      "org.apache.spark.SparkException: A master URL must be set in your configuration",
      "    org.apache.spark.SparkContext.<init>(SparkContext.scala:205)",
      "    org.apache.spark.SparkContext.<init>(SparkContext.scala:109)"
     ]
    }
   ],
   "source": [
    "// val sc = new SparkContext()"
   ]
  },
  {
   "cell_type": "code",
   "execution_count": 121,
   "metadata": {
    "collapsed": false
   },
   "outputs": [
    {
     "name": "stdout",
     "output_type": "stream",
     "text": []
    },
    {
     "name": "stderr",
     "output_type": "stream",
     "text": []
    }
   ],
   "source": [
    "import scala.xml.{ NodeSeq, MetaData }\n",
    "import java.io.File\n",
    "import scala.io.{ BufferedSource, Source }\n",
    "\n",
    "abstract class StackTable[T] {\n",
    "\n",
    "\n",
    "  def getDate(n: scala.xml.NodeSeq): Long = n.text match {\n",
    "    case \"\" => 0\n",
    "    case s => dateFormat.parse(s).getTime\n",
    "  }\n",
    "\n",
    "  def dateFormat = {\n",
    "    import java.text.SimpleDateFormat\n",
    "    import java.util.TimeZone\n",
    "    val f = new SimpleDateFormat(\"yyyy-MM-dd'T'HH:mm:ss.SSS\")\n",
    "    f.setTimeZone(TimeZone.getTimeZone(\"GMT\"))\n",
    "    f\n",
    "  }\n",
    "\n",
    "  def getInt(n: scala.xml.NodeSeq): Int = n.text match {\n",
    "    case \"\" => 0\n",
    "    case x => x.toInt\n",
    "  }\n",
    "\n",
    "  def parseXml(x: scala.xml.Elem): T\n",
    "\n",
    "  def parse(s: String): Option[T] =\n",
    "    if (s.startsWith(\"  <row \")) Some(parseXml(scala.xml.XML.loadString(s)))\n",
    "    else None\n",
    "}\n",
    "\n",
    "object Post extends StackTable[Post] {\n",
    "\n",
    "//   val file = new File(\"data/Posts.xml\")\n",
    "//   assert(file.exists)\n",
    "\n",
    "  override def parseXml(x: scala.xml.Elem): Post = Post(\n",
    "    getInt(x \\ \"@Id\"),\n",
    "    getInt(x \\ \"@PostTypeId\"),\n",
    "    getInt(x \\ \"@AcceptedAnswerId\"),\n",
    "    getDate(x \\ \"@CreationDate\"),\n",
    "    getInt(x \\ \"@Score\"),\n",
    "    getInt(x \\ \"@ViewCount\"),\n",
    "    (x \\ \"@Body\").text,\n",
    "    getInt(x \\ \"@OwnerUserId\"),\n",
    "    getDate(x \\ \"@LastActivityDate\"),\n",
    "    (x \\ \"@Title\").text,\n",
    "    getTags(x \\ \"@Tags\"),\n",
    "    getInt(x \\ \"@AnswerCount\"),\n",
    "    getInt(x \\ \"@CommentCount\"),\n",
    "    getInt(x \\ \"@FavoriteCount\"),\n",
    "    getDate(x \\ \"@CommunityOwnedDate\"))\n",
    "\n",
    "  def getTags(x: scala.xml.NodeSeq): Array[String] = x.text match {\n",
    "    case \"\" => Array()\n",
    "    case s => s.drop(1).dropRight(1).split(\"><\")\n",
    "  }\n",
    "}\n",
    "\n",
    "// <row Id=\"1\" PostTypeId=\"1\" AcceptedAnswerId=\"15\" CreationDate=\"2010-07-19T19:12:12.510\" Score=\"19\" ViewCount=\"1033\" Body=\"&lt;p&gt;How should I elicit prior distributions from experts when fitting a Bayesian model?&lt;/p&gt;&#xA;\" OwnerUserId=\"8\" LastActivityDate=\"2010-09-15T21:08:26.077\" Title=\"Eliciting priors from experts\" Tags=\"&lt;bayesian&gt;&lt;prior&gt;&lt;elicitation&gt;\" AnswerCount=\"5\" CommentCount=\"1\" FavoriteCount=\"11\" />\n",
    "case class Post(\n",
    "  id: Int,\n",
    "  postTypeId: Int,\n",
    "  acceptedAnswerId: Int,\n",
    "  creationDate: Long,\n",
    "  score: Int,\n",
    "  viewCount: Int,\n",
    "  body: String,\n",
    "  ownerUserId: Int,\n",
    "  lastActivityDate: Long,\n",
    "  title: String,\n",
    "  tags: Array[String],\n",
    "  answerCount: Int,\n",
    "  commentCount: Int,\n",
    "  favoriteCount: Int,\n",
    "  communityOwnedDate: Long) \n",
    "\n",
    "object User extends StackTable[User] {\n",
    "\n",
    "//   val file = new File(\"data/Users.xml\")\n",
    "//   assert(file.exists)\n",
    "\n",
    "  override def parseXml(x: scala.xml.Elem): User = User(\n",
    "    getInt(x \\ \"@Id\"),\n",
    "    getInt(x \\ \"@Reputation\"),\n",
    "    getDate(x \\ \"@CreationDate\"),\n",
    "    (x \\ \"@DisplayName\").text,\n",
    "    getDate(x \\ \"@LastAccessDate\"),\n",
    "    (x \\ \"@WebsiteUrl\").text,\n",
    "    (x \\ \"@Location\").text,\n",
    "    (x \\ \"@AboutMe\").text,\n",
    "    getInt(x \\ \"@Views\"),\n",
    "    getInt(x \\ \"@UpVotes\"),\n",
    "    getInt(x \\ \"@DownVotes\"),\n",
    "    (x \\ \"@EmailHash\").text,\n",
    "    getInt(x \\ \"@Age\"))\n",
    "}\n",
    "\n",
    "// <row Id=\"1\" Reputation=\"5828\" CreationDate=\"2009-04-30T07:08:27.067\" DisplayName=\"Jeff Atwood\" LastAccessDate=\"2013-08-15T00:13:25.560\" WebsiteUrl=\"http://www.codinghorror.com/blog/\" Location=\"El Cerrito, CA\" AboutMe=\"&lt;p&gt;&lt;a href=&quot;http://www.codinghorror.com/blog/archives/001169.html&quot; rel=&quot;nofollow&quot;&gt;Stack Overflow Valued Associate #00001&lt;/a&gt;&lt;/p&gt;&#xA;&#xA;&lt;p&gt;Wondering how our software development process works? &lt;a href=&quot;http://www.youtube.com/watch?v=08xQLGWTSag&quot; rel=&quot;nofollow&quot;&gt;Take a look!&lt;/a&gt;&lt;/p&gt;&#xA;&#xA;&lt;p&gt;Find me &lt;a href=&quot;http://twitter.com/codinghorror&quot; rel=&quot;nofollow&quot;&gt;on twitter&lt;/a&gt;, or &lt;a href=&quot;http://www.codinghorror.com/blog&quot; rel=&quot;nofollow&quot;&gt;read my blog&lt;/a&gt;. Don't say I didn't warn you &lt;em&gt;because I totally did&lt;/em&gt;.&lt;/p&gt;&#xA;&#xA;&lt;p&gt;However, &lt;a href=&quot;http://www.codinghorror.com/blog/2012/02/farewell-stack-exchange.html&quot; rel=&quot;nofollow&quot;&gt;I no longer work at Stack Exchange, Inc&lt;/a&gt;. I'll miss you all. Well, &lt;em&gt;some&lt;/em&gt; of you, anyway. :)&lt;/p&gt;&#xA;\" \n",
    "// Views=\"6020\" UpVotes=\"2130\" DownVotes=\"32\" EmailHash=\"51d623f33f8b83095db84ff35e15dbe8\" Age=\"43\" />\n",
    "case class User(\n",
    "  id: Int,\n",
    "  reputation: Int,\n",
    "  creationDate: Long,\n",
    "  displayName: String,\n",
    "  lastAccessDate: Long,\n",
    "  websiteUrl: String,\n",
    "  location: String,\n",
    "  aboutMe: String,\n",
    "  views: Int,\n",
    "  upVotes: Int,\n",
    "  downVotes: Int,\n",
    "  emailHash: String,\n",
    "  age: Int) \n",
    "\n",
    "object Vote extends StackTable[Vote] {\n",
    "\n",
    "  override def parseXml(x: scala.xml.Elem): Vote = Vote(\n",
    "    getInt(x \\ \"@Id\"),\n",
    "    getInt(x \\ \"@PostId\"),\n",
    "    getInt(x \\ \"@VoteTypeId\"),\n",
    "    getInt(x \\ \"@UserId\"),\n",
    "    getDate(x \\ \"@CreationDate\"))\n",
    "}\n",
    "\n",
    "// <row Id=\"1264793\" PostId=\"486481\" VoteTypeId=\"5\" UserId=\"175880\" CreationDate=\"2013-05-30T00:00:00.000\" />\n",
    "case class Vote(\n",
    "  id: Int,\n",
    "  postId: Int,\n",
    "  voteTypeId: Int,\n",
    "  userId: Int,\n",
    "  creationDate: Long) "
   ]
  },
  {
   "cell_type": "code",
   "execution_count": 6,
   "metadata": {
    "collapsed": false
   },
   "outputs": [
    {
     "name": "stdout",
     "output_type": "stream",
     "text": []
    },
    {
     "data": {
      "text/plain": [
       "/home/vagrant/miniprojects/spark/data/spark-stats-data/allPosts/part-00*.xml.gz MapPartitionsRDD[3] at textFile at <console>:12"
      ]
     },
     "execution_count": 6,
     "metadata": {},
     "output_type": "execute_result"
    },
    {
     "name": "stderr",
     "output_type": "stream",
     "text": []
    }
   ],
   "source": [
    "val allPosts = spark.textFile(\"/home/vagrant/miniprojects/spark/data/spark-stats-data/allPosts/part-00*.xml.gz\")"
   ]
  },
  {
   "cell_type": "code",
   "execution_count": 67,
   "metadata": {
    "collapsed": false
   },
   "outputs": [
    {
     "name": "stderr",
     "output_type": "stream",
     "text": []
    },
    {
     "data": {
      "text/plain": [
       "/home/vagrant/miniprojects/spark/data/spark-stats-data/allUsers/part-00*.xml.gz MapPartitionsRDD[30] at textFile at <console>:27"
      ]
     },
     "execution_count": 67,
     "metadata": {},
     "output_type": "execute_result"
    },
    {
     "name": "stdout",
     "output_type": "stream",
     "text": []
    }
   ],
   "source": [
    "val allUsers = spark.textFile(\"/home/vagrant/miniprojects/spark/data/spark-stats-data/allUsers/part-00*.xml.gz\")"
   ]
  },
  {
   "cell_type": "code",
   "execution_count": 71,
   "metadata": {
    "collapsed": false
   },
   "outputs": [
    {
     "name": "stderr",
     "output_type": "stream",
     "text": []
    },
    {
     "name": "stdout",
     "output_type": "stream",
     "text": []
    },
    {
     "data": {
      "text/plain": [
       "/home/vagrant/miniprojects/spark/data/spark-stats-data/allVotes/part-00*.xml.gz MapPartitionsRDD[35] at textFile at <console>:27"
      ]
     },
     "execution_count": 71,
     "metadata": {},
     "output_type": "execute_result"
    }
   ],
   "source": [
    "val allVoters = spark.textFile(\"/home/vagrant/miniprojects/spark/data/spark-stats-data/allVotes/part-00*.xml.gz\")"
   ]
  },
  {
   "cell_type": "code",
   "execution_count": 195,
   "metadata": {
    "collapsed": false
   },
   "outputs": [
    {
     "name": "stderr",
     "output_type": "stream",
     "text": []
    },
    {
     "name": "stdout",
     "output_type": "stream",
     "text": []
    },
    {
     "ename": "org.apache.spark.SparkException",
     "evalue": "Job aborted due to stage failure: ClassNotFound with classloader: ClasspathFilter(\n  parent = URLClassLoader with NativeCopyLoader with RawResources(\n  urls = ArraySeq(/home/vagrant/.ivy2/cache/sh.jove/jove-bridge_2.10/jars/jove-bridge_2.10-0.1.1-1-SNAPSHOT.jar, /home/vagrant/.ivy2/cache/org.apache.spark/spark-repl_2.10/jars/spark-repl_2.10-1.3.0.jar, /home/vagrant/.ivy2/cache/org.scala-lang/jline/jars/jline-2.10.4.jar, /home/vagrant/.ivy2/cache/org.fusesource.jansi/jansi/jars/jansi-1.4.jar, /home/vagrant/.ivy2/cache/org.apache.spark/spark-core_2.10/jars/spark-core_2.10-1.3.0.jar, /home/vagrant/.ivy2/cache/com.twitter/chill_2.10/jars/chill_2.10-0.5.0.jar, /home/vagrant/.ivy2/cache/com.twitter/chill-java/jars/chill-java-0.5.0.jar, /home/vagrant/.ivy2/cache/com.esotericsoftware.kryo/kryo/bundles/kryo-2.21.jar, /home/vagrant/.ivy2/cache/com.esotericsoftware.reflectasm/reflectasm/jars/reflectasm-1.07-shaded.jar, /home/vagrant/.ivy2/cache/com.esotericsoftware.minlog/minlog/jars/minlog-1.2.jar, /home/vagrant/.ivy2/cache/org.objenesis/objenesis/jars/objenesis-1.2.jar, /home/vagrant/.ivy2/cache/org.apache.hadoop/hadoop-client/jars/hadoop-client-2.2.0.jar, /home/vagrant/.ivy2/cache/org.apache.hadoop/hadoop-common/jars/hadoop-common-2.2.0.jar, /home/vagrant/.ivy2/cache/org.apache.hadoop/hadoop-annotations/jars/hadoop-annotations-2.2.0.jar, /home/vagrant/.ivy2/cache/com.google.code.findbugs/jsr305/jars/jsr305-1.3.9.jar, /home/vagrant/.ivy2/cache/commons-cli/commons-cli/jars/commons-cli-1.2.jar, /home/vagrant/.ivy2/cache/org.apache.commons/commons-math/jars/commons-math-2.1.jar, /home/vagrant/.ivy2/cache/xmlenc/xmlenc/jars/xmlenc-0.52.jar, /home/vagrant/.ivy2/cache/commons-httpclient/commons-httpclient/jars/commons-httpclient-3.1.jar, /home/vagrant/.ivy2/cache/commons-logging/commons-logging/jars/commons-logging-1.1.1.jar, /home/vagrant/.ivy2/cache/log4j/log4j/bundles/log4j-1.2.17.jar, /home/vagrant/.ivy2/cache/commons-lang/commons-lang/jars/commons-lang-2.5.jar, /home/vagrant/.ivy2/cache/commons-configuration/commons-configuration/jars/commons-configuration-1.6.jar, /home/vagrant/.ivy2/cache/commons-collections/commons-collections/jars/commons-collections-3.2.1.jar, /home/vagrant/.ivy2/cache/commons-digester/commons-digester/jars/commons-digester-1.8.jar, /home/vagrant/.ivy2/cache/commons-beanutils/commons-beanutils/jars/commons-beanutils-1.7.0.jar, /home/vagrant/.ivy2/cache/commons-beanutils/commons-beanutils-core/jars/commons-beanutils-core-1.8.0.jar, /home/vagrant/.ivy2/cache/org.apache.avro/avro/jars/avro-1.7.4.jar, /home/vagrant/.ivy2/cache/org.apache.commons/commons-compress/jars/commons-compress-1.4.1.jar, /home/vagrant/.ivy2/cache/org.tukaani/xz/jars/xz-1.0.jar, /home/vagrant/.ivy2/cache/com.google.protobuf/protobuf-java/bundles/protobuf-java-2.5.0.jar, /home/vagrant/.ivy2/cache/org.apache.hadoop/hadoop-auth/jars/hadoop-auth-2.2.0.jar, /home/vagrant/.ivy2/cache/org.apache.hadoop/hadoop-hdfs/jars/hadoop-hdfs-2.2.0.jar, /home/vagrant/.ivy2/cache/org.mortbay.jetty/jetty-util/jars/jetty-util-6.1.26.jar, /home/vagrant/.ivy2/cache/org.apache.hadoop/hadoop-mapreduce-client-app/jars/hadoop-mapreduce-client-app-2.2.0.jar, /home/vagrant/.ivy2/cache/org.apache.hadoop/hadoop-mapreduce-client-common/jars/hadoop-mapreduce-client-common-2.2.0.jar, /home/vagrant/.ivy2/cache/org.apache.hadoop/hadoop-yarn-common/jars/hadoop-yarn-common-2.2.0.jar, /home/vagrant/.ivy2/cache/org.apache.hadoop/hadoop-yarn-api/jars/hadoop-yarn-api-2.2.0.jar, /home/vagrant/.ivy2/cache/com.google.inject/guice/jars/guice-3.0.jar, /home/vagrant/.ivy2/cache/javax.inject/javax.inject/jars/javax.inject-1.jar, /home/vagrant/.ivy2/cache/aopalliance/aopalliance/jars/aopalliance-1.0.jar, /home/vagrant/.ivy2/cache/org.sonatype.sisu.inject/cglib/jars/cglib-2.2.1-v20090111.jar, /home/vagrant/.ivy2/cache/asm/asm/jars/asm-3.2.jar, /home/vagrant/.ivy2/cache/com.sun.jersey.jersey-test-framework/jersey-test-framework-grizzly2/jars/jersey-test-framework-grizzly2-1.9.jar, /home/vagrant/.ivy2/cache/com.sun.jersey/jersey-server/bundles/jersey-server-1.9.jar, /home/vagrant/.ivy2/cache/com.sun.jersey/jersey-json/bundles/jersey-json-1.9.jar, /home/vagrant/.ivy2/cache/org.codehaus.jettison/jettison/bundles/jettison-1.1.jar, /home/vagrant/.ivy2/cache/stax/stax-api/jars/stax-api-1.0.1.jar, /home/vagrant/.ivy2/cache/com.sun.xml.bind/jaxb-impl/jars/jaxb-impl-2.2.3-1.jar, /home/vagrant/.ivy2/cache/javax.xml.bind/jaxb-api/jars/jaxb-api-2.2.2.jar, /home/vagrant/.ivy2/cache/javax.activation/activation/jars/activation-1.1.jar, /home/vagrant/.ivy2/cache/org.codehaus.jackson/jackson-jaxrs/jars/jackson-jaxrs-1.8.8.jar, /home/vagrant/.ivy2/cache/org.codehaus.jackson/jackson-xc/jars/jackson-xc-1.8.8.jar, /home/vagrant/.ivy2/cache/com.sun.jersey.contribs/jersey-guice/jars/jersey-guice-1.9.jar, /home/vagrant/.ivy2/cache/org.apache.hadoop/hadoop-yarn-client/jars/hadoop-yarn-client-2.2.0.jar, /home/vagrant/.ivy2/cache/org.apache.hadoop/hadoop-mapreduce-client-core/jars/hadoop-mapreduce-client-core-2.2.0.jar, /home/vagrant/.ivy2/cache/org.apache.hadoop/hadoop-yarn-server-common/jars/hadoop-yarn-server-common-2.2.0.jar, /home/vagrant/.ivy2/cache/org.apache.hadoop/hadoop-mapreduce-client-shuffle/jars/hadoop-mapreduce-client-shuffle-2.2.0.jar, /home/vagrant/.ivy2/cache/org.apache.hadoop/hadoop-mapreduce-client-jobclient/jars/hadoop-mapreduce-client-jobclient-2.2.0.jar, /home/vagrant/.ivy2/cache/org.apache.spark/spark-network-common_2.10/jars/spark-network-common_2.10-1.3.0.jar, /home/vagrant/.ivy2/cache/io.netty/netty-all/jars/netty-all-4.0.23.Final.jar, /home/vagrant/.ivy2/cache/org.spark-project.spark/unused/jars/unused-1.0.0.jar, /home/vagrant/.ivy2/cache/org.apache.spark/spark-network-shuffle_2.10/jars/spark-network-shuffle_2.10-1.3.0.jar, /home/vagrant/.ivy2/cache/net.java.dev.jets3t/jets3t/jars/jets3t-0.7.1.jar, /home/vagrant/.ivy2/cache/org.apache.curator/curator-recipes/bundles/curator-recipes-2.4.0.jar, /home/vagrant/.ivy2/cache/org.apache.curator/curator-framework/bundles/curator-framework-2.4.0.jar, /home/vagrant/.ivy2/cache/org.apache.curator/curator-client/bundles/curator-client-2.4.0.jar, /home/vagrant/.ivy2/cache/org.apache.zookeeper/zookeeper/jars/zookeeper-3.4.5.jar, /home/vagrant/.ivy2/cache/jline/jline/jars/jline-0.9.94.jar, /home/vagrant/.ivy2/cache/com.google.guava/guava/bundles/guava-14.0.1.jar, /home/vagrant/.ivy2/cache/org.eclipse.jetty.orbit/javax.servlet/orbits/javax.servlet-3.0.0.v201112011016.jar, /home/vagrant/.ivy2/cache/org.apache.commons/commons-lang3/jars/commons-lang3-3.3.2.jar, /home/vagrant/.ivy2/cache/org.apache.commons/commons-math3/jars/commons-math3-3.1.1.jar, /home/vagrant/.ivy2/cache/org.slf4j/slf4j-api/jars/slf4j-api-1.7.10.jar, /home/vagrant/.ivy2/cache/org.slf4j/jul-to-slf4j/jars/jul-to-slf4j-1.7.10.jar, /home/vagrant/.ivy2/cache/org.slf4j/jcl-over-slf4j/jars/jcl-over-slf4j-1.7.10.jar, /home/vagrant/.ivy2/cache/org.slf4j/slf4j-log4j12/jars/slf4j-log4j12-1.7.10.jar, /home/vagrant/.ivy2/cache/com.ning/compress-lzf/bundles/compress-lzf-1.0.0.jar, /home/vagrant/.ivy2/cache/org.xerial.snappy/snappy-java/bundles/snappy-java-1.1.1.6.jar, /home/vagrant/.ivy2/cache/net.jpountz.lz4/lz4/jars/lz4-1.2.0.jar, /home/vagrant/.ivy2/cache/org.roaringbitmap/RoaringBitmap/bundles/RoaringBitmap-0.4.5.jar, /home/vagrant/.ivy2/cache/commons-net/commons-net/jars/commons-net-2.2.jar, /home/vagrant/.ivy2/cache/org.spark-project.akka/akka-remote_2.10/jars/akka-remote_2.10-2.3.4-spark.jar, /home/vagrant/.ivy2/cache/org.spark-project.akka/akka-actor_2.10/jars/akka-actor_2.10-2.3.4-spark.jar, /home/vagrant/.ivy2/cache/com.typesafe/config/bundles/config-1.2.1.jar, /home/vagrant/.ivy2/cache/io.netty/netty/bundles/netty-3.8.0.Final.jar, /home/vagrant/.ivy2/cache/org.spark-project.protobuf/protobuf-java/bundles/protobuf-java-2.5.0-spark.jar, /home/vagrant/.ivy2/cache/org.uncommons.maths/uncommons-maths/jars/uncommons-maths-1.2.2a.jar, /home/vagrant/.ivy2/cache/org.spark-project.akka/akka-slf4j_2.10/jars/akka-slf4j_2.10-2.3.4-spark.jar, /home/vagrant/.ivy2/cache/org.json4s/json4s-jackson_2.10/jars/json4s-jackson_2.10-3.2.10.jar, /home/vagrant/.ivy2/cache/org.json4s/json4s-core_2.10/jars/json4s-core_2.10-3.2.10.jar, /home/vagrant/.ivy2/cache/org.json4s/json4s-ast_2.10/jars/json4s-ast_2.10-3.2.10.jar, /home/vagrant/.ivy2/cache/com.thoughtworks.paranamer/paranamer/jars/paranamer-2.6.jar, /home/vagrant/.ivy2/cache/org.scala-lang/scalap/jars/scalap-2.10.0.jar, /home/vagrant/.ivy2/cache/org.apache.mesos/mesos/jars/mesos-0.21.0-shaded-protobuf.jar, /home/vagrant/.ivy2/cache/com.clearspring.analytics/stream/jars/stream-2.7.0.jar, /home/vagrant/.ivy2/cache/io.dropwizard.metrics/metrics-core/bundles/metrics-core-3.1.0.jar, /home/vagrant/.ivy2/cache/io.dropwizard.metrics/metrics-jvm/bundles/metrics-jvm-3.1.0.jar, /home/vagrant/.ivy2/cache/io.dropwizard.metrics/metrics-json/bundles/metrics-json-3.1.0.jar, /home/vagrant/.ivy2/cache/io.dropwizard.metrics/metrics-graphite/bundles/metrics-graphite-3.1.0.jar, /home/vagrant/.ivy2/cache/com.fasterxml.jackson.core/jackson-databind/bundles/jackson-databind-2.4.4.jar, /home/vagrant/.ivy2/cache/com.fasterxml.jackson.core/jackson-core/bundles/jackson-core-2.4.4.jar, /home/vagrant/.ivy2/cache/com.fasterxml.jackson.module/jackson-module-scala_2.10/bundles/jackson-module-scala_2.10-2.4.4.jar, /home/vagrant/.ivy2/cache/com.fasterxml.jackson.core/jackson-annotations/bundles/jackson-annotations-2.4.4.jar, /home/vagrant/.ivy2/cache/org.apache.ivy/ivy/jars/ivy-2.4.0.jar, /home/vagrant/.ivy2/cache/oro/oro/jars/oro-2.0.8.jar, /home/vagrant/.ivy2/cache/org.tachyonproject/tachyon-client/jars/tachyon-client-0.5.0.jar, /home/vagrant/.ivy2/cache/org.tachyonproject/tachyon/jars/tachyon-0.5.0.jar, /home/vagrant/.ivy2/cache/commons-io/commons-io/jars/commons-io-2.4.jar, /home/vagrant/.ivy2/cache/org.spark-project/pyrolite/jars/pyrolite-2.0.1.jar, /home/vagrant/.ivy2/cache/net.sf.py4j/py4j/jars/py4j-0.8.2.1.jar, /home/vagrant/.ivy2/cache/org.apache.hadoop/hadoop-yarn-server-nodemanager/jars/hadoop-yarn-server-nodemanager-2.2.0.jar, /home/vagrant/.ivy2/cache/org.apache.spark/spark-sql_2.10/jars/spark-sql_2.10-1.3.0.jar, /home/vagrant/.ivy2/cache/org.apache.spark/spark-catalyst_2.10/jars/spark-catalyst_2.10-1.3.0.jar, /home/vagrant/.ivy2/cache/org.scalamacros/quasiquotes_2.10/jars/quasiquotes_2.10-2.0.1.jar, /home/vagrant/.ivy2/cache/com.twitter/parquet-column/jars/parquet-column-1.6.0rc3.jar, /home/vagrant/.ivy2/cache/com.twitter/parquet-common/jars/parquet-common-1.6.0rc3.jar, /home/vagrant/.ivy2/cache/com.twitter/parquet-encoding/jars/parquet-encoding-1.6.0rc3.jar, /home/vagrant/.ivy2/cache/com.twitter/parquet-generator/jars/parquet-generator-1.6.0rc3.jar, /home/vagrant/.ivy2/cache/commons-codec/commons-codec/jars/commons-codec-1.5.jar, /home/vagrant/.ivy2/cache/com.twitter/parquet-hadoop/jars/parquet-hadoop-1.6.0rc3.jar, /home/vagrant/.ivy2/cache/com.twitter/parquet-format/jars/parquet-format-2.2.0-rc1.jar, /home/vagrant/.ivy2/cache/com.twitter/parquet-jackson/jars/parquet-jackson-1.6.0rc3.jar, /home/vagrant/.ivy2/cache/org.codehaus.jackson/jackson-mapper-asl/jars/jackson-mapper-asl-1.9.11.jar, /home/vagrant/.ivy2/cache/org.codehaus.jackson/jackson-core-asl/jars/jackson-core-asl-1.9.11.jar, /home/vagrant/.ivy2/cache/org.jodd/jodd-core/jars/jodd-core-3.6.3.jar, /home/vagrant/.ivy2/cache/org.apache.spark/spark-bagel_2.10/jars/spark-bagel_2.10-1.3.0.jar, /home/vagrant/.ivy2/cache/org.apache.spark/spark-mllib_2.10/jars/spark-mllib_2.10-1.3.0.jar, /home/vagrant/.ivy2/cache/org.apache.spark/spark-streaming_2.10/jars/spark-streaming_2.10-1.3.0.jar, /home/vagrant/.ivy2/cache/org.apache.spark/spark-graphx_2.10/jars/spark-graphx_2.10-1.3.0.jar, /home/vagrant/.ivy2/cache/org.jblas/jblas/jars/jblas-1.2.3.jar, /home/vagrant/.ivy2/cache/org.scalanlp/breeze_2.10/jars/breeze_2.10-0.11.1.jar, /home/vagrant/.ivy2/cache/org.scalanlp/breeze-macros_2.10/jars/breeze-macros_2.10-0.11.1.jar, /home/vagrant/.ivy2/cache/com.github.fommil.netlib/core/jars/core-1.1.2.jar, /home/vagrant/.ivy2/cache/net.sourceforge.f2j/arpack_combined_all/jars/arpack_combined_all-0.1-javadoc.jar, /home/vagrant/.ivy2/cache/net.sourceforge.f2j/arpack_combined_all/jars/arpack_combined_all-0.1.jar, /home/vagrant/.ivy2/cache/net.sf.opencsv/opencsv/jars/opencsv-2.3.jar, /home/vagrant/.ivy2/cache/com.github.rwl/jtransforms/jars/jtransforms-2.4.0.jar, /home/vagrant/.ivy2/cache/org.spire-math/spire_2.10/jars/spire_2.10-0.7.4.jar, /home/vagrant/.ivy2/cache/org.spire-math/spire-macros_2.10/jars/spire-macros_2.10-0.7.4.jar, /home/vagrant/.ivy2/cache/sh.jove/jove-bridge_2.10/jars/jove-bridge_2.10-0.1.1-1-SNAPSHOT.jar, /home/vagrant/.ivy2/cache/org.apache.spark/spark-repl_2.10/jars/spark-repl_2.10-1.3.0.jar, /home/vagrant/.ivy2/cache/org.scala-lang/jline/jars/jline-2.10.4.jar, /home/vagrant/.ivy2/cache/org.fusesource.jansi/jansi/jars/jansi-1.4.jar, /home/vagrant/.ivy2/cache/org.apache.spark/spark-core_2.10/jars/spark-core_2.10-1.3.0.jar, /home/vagrant/.ivy2/cache/com.twitter/chill_2.10/jars/chill_2.10-0.5.0.jar, /home/vagrant/.ivy2/cache/com.twitter/chill-java/jars/chill-java-0.5.0.jar, /home/vagrant/.ivy2/cache/com.esotericsoftware.kryo/kryo/bundles/kryo-2.21.jar, /home/vagrant/.ivy2/cache/com.esotericsoftware.reflectasm/reflectasm/jars/reflectasm-1.07-shaded.jar, /home/vagrant/.ivy2/cache/com.esotericsoftware.minlog/minlog/jars/minlog-1.2.jar, /home/vagrant/.ivy2/cache/org.objenesis/objenesis/jars/objenesis-1.2.jar, /home/vagrant/.ivy2/cache/org.apache.hadoop/hadoop-client/jars/hadoop-client-2.2.0.jar, /home/vagrant/.ivy2/cache/org.apache.hadoop/hadoop-common/jars/hadoop-common-2.2.0.jar, /home/vagrant/.ivy2/cache/org.apache.hadoop/hadoop-annotations/jars/hadoop-annotations-2.2.0.jar, /home/vagrant/.ivy2/cache/com.google.code.findbugs/jsr305/jars/jsr305-1.3.9.jar, /home/vagrant/.ivy2/cache/commons-cli/commons-cli/jars/commons-cli-1.2.jar, /home/vagrant/.ivy2/cache/org.apache.commons/commons-math/jars/commons-math-2.1.jar, /home/vagrant/.ivy2/cache/xmlenc/xmlenc/jars/xmlenc-0.52.jar, /home/vagrant/.ivy2/cache/commons-httpclient/commons-httpclient/jars/commons-httpclient-3.1.jar, /home/vagrant/.ivy2/cache/commons-logging/commons-logging/jars/commons-logging-1.1.1.jar, /home/vagrant/.ivy2/cache/commons-net/commons-net/jars/commons-net-3.1.jar, /home/vagrant/.ivy2/cache/log4j/log4j/bundles/log4j-1.2.17.jar, /home/vagrant/.ivy2/cache/commons-lang/commons-lang/jars/commons-lang-2.5.jar, /home/vagrant/.ivy2/cache/commons-configuration/commons-configuration/jars/commons-configuration-1.6.jar, /home/vagrant/.ivy2/cache/commons-collections/commons-collections/jars/commons-collections-3.2.1.jar, /home/vagrant/.ivy2/cache/commons-digester/commons-digester/jars/commons-digester-1.8.jar, /home/vagrant/.ivy2/cache/commons-beanutils/commons-beanutils/jars/commons-beanutils-1.7.0.jar, /home/vagrant/.ivy2/cache/commons-beanutils/commons-beanutils-core/jars/commons-beanutils-core-1.8.0.jar, /home/vagrant/.ivy2/cache/org.apache.avro/avro/jars/avro-1.7.4.jar, /home/vagrant/.ivy2/cache/org.apache.commons/commons-compress/jars/commons-compress-1.4.1.jar, /home/vagrant/.ivy2/cache/org.tukaani/xz/jars/xz-1.0.jar, /home/vagrant/.ivy2/cache/com.google.protobuf/protobuf-java/bundles/protobuf-java-2.5.0.jar, /home/vagrant/.ivy2/cache/org.apache.hadoop/hadoop-auth/jars/hadoop-auth-2.2.0.jar, /home/vagrant/.ivy2/cache/org.apache.hadoop/hadoop-hdfs/jars/hadoop-hdfs-2.2.0.jar, /home/vagrant/.ivy2/cache/org.mortbay.jetty/jetty-util/jars/jetty-util-6.1.26.jar, /home/vagrant/.ivy2/cache/org.apache.hadoop/hadoop-mapreduce-client-app/jars/hadoop-mapreduce-client-app-2.2.0.jar, /home/vagrant/.ivy2/cache/org.apache.hadoop/hadoop-mapreduce-client-common/jars/hadoop-mapreduce-client-common-2.2.0.jar, /home/vagrant/.ivy2/cache/org.apache.hadoop/hadoop-yarn-common/jars/hadoop-yarn-common-2.2.0.jar, /home/vagrant/.ivy2/cache/org.apache.hadoop/hadoop-yarn-api/jars/hadoop-yarn-api-2.2.0.jar, /home/vagrant/.ivy2/cache/com.google.inject/guice/jars/guice-3.0.jar, /home/vagrant/.ivy2/cache/javax.inject/javax.inject/jars/javax.inject-1.jar, /home/vagrant/.ivy2/cache/aopalliance/aopalliance/jars/aopalliance-1.0.jar, /home/vagrant/.ivy2/cache/org.sonatype.sisu.inject/cglib/jars/cglib-2.2.1-v20090111.jar, /home/vagrant/.ivy2/cache/asm/asm/jars/asm-3.2.jar, /home/vagrant/.ivy2/cache/com.sun.jersey.jersey-test-framework/jersey-test-framework-grizzly2/jars/jersey-test-framework-grizzly2-1.9.jar, /home/vagrant/.ivy2/cache/com.sun.jersey/jersey-server/bundles/jersey-server-1.9.jar, /home/vagrant/.ivy2/cache/com.sun.jersey/jersey-json/bundles/jersey-json-1.9.jar, /home/vagrant/.ivy2/cache/org.codehaus.jettison/jettison/bundles/jettison-1.1.jar, /home/vagrant/.ivy2/cache/stax/stax-api/jars/stax-api-1.0.1.jar, /home/vagrant/.ivy2/cache/com.sun.xml.bind/jaxb-impl/jars/jaxb-impl-2.2.3-1.jar, /home/vagrant/.ivy2/cache/javax.xml.bind/jaxb-api/jars/jaxb-api-2.2.2.jar, /home/vagrant/.ivy2/cache/javax.activation/activation/jars/activation-1.1.jar, /home/vagrant/.ivy2/cache/org.codehaus.jackson/jackson-jaxrs/jars/jackson-jaxrs-1.8.8.jar, /home/vagrant/.ivy2/cache/org.codehaus.jackson/jackson-xc/jars/jackson-xc-1.8.8.jar, /home/vagrant/.ivy2/cache/com.sun.jersey.contribs/jersey-guice/jars/jersey-guice-1.9.jar, /home/vagrant/.ivy2/cache/org.apache.hadoop/hadoop-yarn-client/jars/hadoop-yarn-client-2.2.0.jar, /home/vagrant/.ivy2/cache/org.apache.hadoop/hadoop-mapreduce-client-core/jars/hadoop-mapreduce-client-core-2.2.0.jar, /home/vagrant/.ivy2/cache/org.apache.hadoop/hadoop-yarn-server-common/jars/hadoop-yarn-server-common-2.2.0.jar, /home/vagrant/.ivy2/cache/org.apache.hadoop/hadoop-mapreduce-client-shuffle/jars/hadoop-mapreduce-client-shuffle-2.2.0.jar, /home/vagrant/.ivy2/cache/org.apache.hadoop/hadoop-mapreduce-client-jobclient/jars/hadoop-mapreduce-client-jobclient-2.2.0.jar, /home/vagrant/.ivy2/cache/org.apache.spark/spark-network-common_2.10/jars/spark-network-common_2.10-1.3.0.jar, /home/vagrant/.ivy2/cache/io.netty/netty-all/jars/netty-all-4.0.23.Final.jar, /home/vagrant/.ivy2/cache/org.spark-project.spark/unused/jars/unused-1.0.0.jar, /home/vagrant/.ivy2/cache/org.apache.spark/spark-network-shuffle_2.10/jars/spark-network-shuffle_2.10-1.3.0.jar, /home/vagrant/.ivy2/cache/net.java.dev.jets3t/jets3t/jars/jets3t-0.7.1.jar, /home/vagrant/.ivy2/cache/org.apache.curator/curator-recipes/bundles/curator-recipes-2.4.0.jar, /home/vagrant/.ivy2/cache/org.apache.curator/curator-framework/bundles/curator-framework-2.4.0.jar, /home/vagrant/.ivy2/cache/org.apache.curator/curator-client/bundles/curator-client-2.4.0.jar, /home/vagrant/.ivy2/cache/org.apache.zookeeper/zookeeper/jars/zookeeper-3.4.5.jar, /home/vagrant/.ivy2/cache/jline/jline/jars/jline-0.9.94.jar, /home/vagrant/.ivy2/cache/com.google.guava/guava/bundles/guava-14.0.1.jar, /home/vagrant/.ivy2/cache/org.eclipse.jetty.orbit/javax.servlet/orbits/javax.servlet-3.0.0.v201112011016.jar, /home/vagrant/.ivy2/cache/org.apache.commons/commons-lang3/jars/commons-lang3-3.3.2.jar, /home/vagrant/.ivy2/cache/org.apache.commons/commons-math3/jars/commons-math3-3.1.1.jar, /home/vagrant/.ivy2/cache/org.slf4j/slf4j-api/jars/slf4j-api-1.7.10.jar, /home/vagrant/.ivy2/cache/org.slf4j/jul-to-slf4j/jars/jul-to-slf4j-1.7.10.jar, /home/vagrant/.ivy2/cache/org.slf4j/jcl-over-slf4j/jars/jcl-over-slf4j-1.7.10.jar, /home/vagrant/.ivy2/cache/org.slf4j/slf4j-log4j12/jars/slf4j-log4j12-1.7.10.jar, /home/vagrant/.ivy2/cache/com.ning/compress-lzf/bundles/compress-lzf-1.0.0.jar, /home/vagrant/.ivy2/cache/org.xerial.snappy/snappy-java/bundles/snappy-java-1.1.1.6.jar, /home/vagrant/.ivy2/cache/net.jpountz.lz4/lz4/jars/lz4-1.2.0.jar, /home/vagrant/.ivy2/cache/org.roaringbitmap/RoaringBitmap/bundles/RoaringBitmap-0.4.5.jar, /home/vagrant/.ivy2/cache/org.spark-project.akka/akka-remote_2.10/jars/akka-remote_2.10-2.3.4-spark.jar, /home/vagrant/.ivy2/cache/org.spark-project.akka/akka-actor_2.10/jars/akka-actor_2.10-2.3.4-spark.jar, /home/vagrant/.ivy2/cache/com.typesafe/config/bundles/config-1.2.1.jar, /home/vagrant/.ivy2/cache/io.netty/netty/bundles/netty-3.8.0.Final.jar, /home/vagrant/.ivy2/cache/org.spark-project.protobuf/protobuf-java/bundles/protobuf-java-2.5.0-spark.jar, /home/vagrant/.ivy2/cache/org.uncommons.maths/uncommons-maths/jars/uncommons-maths-1.2.2a.jar, /home/vagrant/.ivy2/cache/org.spark-project.akka/akka-slf4j_2.10/jars/akka-slf4j_2.10-2.3.4-spark.jar, /home/vagrant/.ivy2/cache/org.json4s/json4s-jackson_2.10/jars/json4s-jackson_2.10-3.2.10.jar, /home/vagrant/.ivy2/cache/org.json4s/json4s-core_2.10/jars/json4s-core_2.10-3.2.10.jar, /home/vagrant/.ivy2/cache/org.json4s/json4s-ast_2.10/jars/json4s-ast_2.10-3.2.10.jar, /home/vagrant/.ivy2/cache/com.thoughtworks.paranamer/paranamer/jars/paranamer-2.6.jar, /home/vagrant/.ivy2/cache/org.scala-lang/scalap/jars/scalap-2.10.0.jar, /home/vagrant/.ivy2/cache/com.fasterxml.jackson.core/jackson-databind/bundles/jackson-databind-2.4.4.jar, /home/vagrant/.ivy2/cache/com.fasterxml.jackson.core/jackson-core/bundles/jackson-core-2.4.4.jar, /home/vagrant/.ivy2/cache/org.apache.mesos/mesos/jars/mesos-0.21.0-shaded-protobuf.jar, /home/vagrant/.ivy2/cache/com.clearspring.analytics/stream/jars/stream-2.7.0.jar, /home/vagrant/.ivy2/cache/io.dropwizard.metrics/metrics-core/bundles/metrics-core-3.1.0.jar, /home/vagrant/.ivy2/cache/io.dropwizard.metrics/metrics-jvm/bundles/metrics-jvm-3.1.0.jar, /home/vagrant/.ivy2/cache/io.dropwizard.metrics/metrics-json/bundles/metrics-json-3.1.0.jar, /home/vagrant/.ivy2/cache/io.dropwizard.metrics/metrics-graphite/bundles/metrics-graphite-3.1.0.jar, /home/vagrant/.ivy2/cache/com.fasterxml.jackson.module/jackson-module-scala_2.10/bundles/jackson-module-scala_2.10-2.4.4.jar, /home/vagrant/.ivy2/cache/com.fasterxml.jackson.core/jackson-annotations/bundles/jackson-annotations-2.4.4.jar, /home/vagrant/.ivy2/cache/org.apache.ivy/ivy/jars/ivy-2.4.0.jar, /home/vagrant/.ivy2/cache/oro/oro/jars/oro-2.0.8.jar, /home/vagrant/.ivy2/cache/org.tachyonproject/tachyon-client/jars/tachyon-client-0.5.0.jar, /home/vagrant/.ivy2/cache/org.tachyonproject/tachyon/jars/tachyon-0.5.0.jar, /home/vagrant/.ivy2/cache/commons-io/commons-io/jars/commons-io-2.4.jar, /home/vagrant/.ivy2/cache/org.spark-project/pyrolite/jars/pyrolite-2.0.1.jar, /home/vagrant/.ivy2/cache/net.sf.py4j/py4j/jars/py4j-0.8.2.1.jar, /home/vagrant/.ivy2/cache/org.apache.spark/spark-sql_2.10/jars/spark-sql_2.10-1.3.0.jar, /home/vagrant/.ivy2/cache/org.apache.spark/spark-catalyst_2.10/jars/spark-catalyst_2.10-1.3.0.jar, /home/vagrant/.ivy2/cache/org.scalamacros/quasiquotes_2.10/jars/quasiquotes_2.10-2.0.1.jar, /home/vagrant/.ivy2/cache/com.twitter/parquet-column/jars/parquet-column-1.6.0rc3.jar, /home/vagrant/.ivy2/cache/com.twitter/parquet-common/jars/parquet-common-1.6.0rc3.jar, /home/vagrant/.ivy2/cache/com.twitter/parquet-encoding/jars/parquet-encoding-1.6.0rc3.jar, /home/vagrant/.ivy2/cache/com.twitter/parquet-generator/jars/parquet-generator-1.6.0rc3.jar, /home/vagrant/.ivy2/cache/commons-codec/commons-codec/jars/commons-codec-1.5.jar, /home/vagrant/.ivy2/cache/com.twitter/parquet-hadoop/jars/parquet-hadoop-1.6.0rc3.jar, /home/vagrant/.ivy2/cache/com.twitter/parquet-format/jars/parquet-format-2.2.0-rc1.jar, /home/vagrant/.ivy2/cache/com.twitter/parquet-jackson/jars/parquet-jackson-1.6.0rc3.jar, /home/vagrant/.ivy2/cache/org.codehaus.jackson/jackson-mapper-asl/jars/jackson-mapper-asl-1.9.11.jar, /home/vagrant/.ivy2/cache/org.codehaus.jackson/jackson-core-asl/jars/jackson-core-asl-1.9.11.jar, /home/vagrant/.ivy2/cache/org.jodd/jodd-core/jars/jodd-core-3.6.3.jar, /home/vagrant/.ivy2/cache/org.apache.spark/spark-bagel_2.10/jars/spark-bagel_2.10-1.3.0.jar, /home/vagrant/.ivy2/cache/org.apache.spark/spark-mllib_2.10/jars/spark-mllib_2.10-1.3.0.jar, /home/vagrant/.ivy2/cache/org.apache.spark/spark-streaming_2.10/jars/spark-streaming_2.10-1.3.0.jar, /home/vagrant/.ivy2/cache/org.apache.spark/spark-graphx_2.10/jars/spark-graphx_2.10-1.3.0.jar, /home/vagrant/.ivy2/cache/org.jblas/jblas/jars/jblas-1.2.3.jar, /home/vagrant/.ivy2/cache/org.scalanlp/breeze_2.10/jars/breeze_2.10-0.11.1.jar, /home/vagrant/.ivy2/cache/org.scalanlp/breeze-macros_2.10/jars/breeze-macros_2.10-0.11.1.jar, /home/vagrant/.ivy2/cache/com.github.fommil.netlib/core/jars/core-1.1.2.jar, /home/vagrant/.ivy2/cache/net.sourceforge.f2j/arpack_combined_all/jars/arpack_combined_all-0.1-javadoc.jar, /home/vagrant/.ivy2/cache/net.sourceforge.f2j/arpack_combined_all/jars/arpack_combined_all-0.1.jar, /home/vagrant/.ivy2/cache/net.sf.opencsv/opencsv/jars/opencsv-2.3.jar, /home/vagrant/.ivy2/cache/com.github.rwl/jtransforms/jars/jtransforms-2.4.0.jar, /home/vagrant/.ivy2/cache/org.spire-math/spire_2.10/jars/spire_2.10-0.7.4.jar, /home/vagrant/.ivy2/cache/org.spire-math/spire-macros_2.10/jars/spire-macros_2.10-0.7.4.jar, /home/vagrant/.ivy2/cache/sh.jove/jove-bridge_2.10/jars/jove-bridge_2.10-0.1.1-1-SNAPSHOT.jar, /home/vagrant/.ivy2/cache/org.apache.spark/spark-repl_2.10/jars/spark-repl_2.10-1.3.0.jar, /home/vagrant/.ivy2/cache/org.scala-lang/jline/jars/jline-2.10.4.jar, /home/vagrant/.ivy2/cache/org.fusesource.jansi/jansi/jars/jansi-1.4.jar, /home/vagrant/.ivy2/cache/org.apache.spark/spark-core_2.10/jars/spark-core_2.10-1.3.0.jar, /home/vagrant/.ivy2/cache/com.twitter/chill_2.10/jars/chill_2.10-0.5.0.jar, /home/vagrant/.ivy2/cache/com.twitter/chill-java/jars/chill-java-0.5.0.jar, /home/vagrant/.ivy2/cache/com.esotericsoftware.kryo/kryo/bundles/kryo-2.21.jar, /home/vagrant/.ivy2/cache/com.esotericsoftware.reflectasm/reflectasm/jars/reflectasm-1.07-shaded.jar, /home/vagrant/.ivy2/cache/com.esotericsoftware.minlog/minlog/jars/minlog-1.2.jar, /home/vagrant/.ivy2/cache/org.objenesis/objenesis/jars/objenesis-1.2.jar, /home/vagrant/.ivy2/cache/org.apache.hadoop/hadoop-client/jars/hadoop-client-2.2.0.jar, /home/vagrant/.ivy2/cache/org.apache.hadoop/hadoop-common/jars/hadoop-common-2.2.0.jar, /home/vagrant/.ivy2/cache/org.apache.hadoop/hadoop-annotations/jars/hadoop-annotations-2.2.0.jar, /home/vagrant/.ivy2/cache/com.google.code.findbugs/jsr305/jars/jsr305-1.3.9.jar, /home/vagrant/.ivy2/cache/commons-cli/commons-cli/jars/commons-cli-1.2.jar, /home/vagrant/.ivy2/cache/org.apache.commons/commons-math/jars/commons-math-2.1.jar, /home/vagrant/.ivy2/cache/xmlenc/xmlenc/jars/xmlenc-0.52.jar, /home/vagrant/.ivy2/cache/commons-httpclient/commons-httpclient/jars/commons-httpclient-3.1.jar, /home/vagrant/.ivy2/cache/commons-logging/commons-logging/jars/commons-logging-1.1.1.jar, /home/vagrant/.ivy2/cache/commons-net/commons-net/jars/commons-net-3.1.jar, /home/vagrant/.ivy2/cache/log4j/log4j/bundles/log4j-1.2.17.jar, /home/vagrant/.ivy2/cache/commons-lang/commons-lang/jars/commons-lang-2.5.jar, /home/vagrant/.ivy2/cache/commons-configuration/commons-configuration/jars/commons-configuration-1.6.jar, /home/vagrant/.ivy2/cache/commons-collections/commons-collections/jars/commons-collections-3.2.1.jar, /home/vagrant/.ivy2/cache/commons-digester/commons-digester/jars/commons-digester-1.8.jar, /home/vagrant/.ivy2/cache/commons-beanutils/commons-beanutils/jars/commons-beanutils-1.7.0.jar, /home/vagrant/.ivy2/cache/commons-beanutils/commons-beanutils-core/jars/commons-beanutils-core-1.8.0.jar, /home/vagrant/.ivy2/cache/org.apache.avro/avro/jars/avro-1.7.4.jar, /home/vagrant/.ivy2/cache/org.apache.commons/commons-compress/jars/commons-compress-1.4.1.jar, /home/vagrant/.ivy2/cache/org.tukaani/xz/jars/xz-1.0.jar, /home/vagrant/.ivy2/cache/com.google.protobuf/protobuf-java/bundles/protobuf-java-2.5.0.jar, /home/vagrant/.ivy2/cache/org.apache.hadoop/hadoop-auth/jars/hadoop-auth-2.2.0.jar, /home/vagrant/.ivy2/cache/org.apache.hadoop/hadoop-hdfs/jars/hadoop-hdfs-2.2.0.jar, /home/vagrant/.ivy2/cache/org.mortbay.jetty/jetty-util/jars/jetty-util-6.1.26.jar, /home/vagrant/.ivy2/cache/org.apache.hadoop/hadoop-mapreduce-client-app/jars/hadoop-mapreduce-client-app-2.2.0.jar, /home/vagrant/.ivy2/cache/org.apache.hadoop/hadoop-mapreduce-client-common/jars/hadoop-mapreduce-client-common-2.2.0.jar, /home/vagrant/.ivy2/cache/org.apache.hadoop/hadoop-yarn-common/jars/hadoop-yarn-common-2.2.0.jar, /home/vagrant/.ivy2/cache/org.apache.hadoop/hadoop-yarn-api/jars/hadoop-yarn-api-2.2.0.jar, /home/vagrant/.ivy2/cache/com.google.inject/guice/jars/guice-3.0.jar, /home/vagrant/.ivy2/cache/javax.inject/javax.inject/jars/javax.inject-1.jar, /home/vagrant/.ivy2/cache/aopalliance/aopalliance/jars/aopalliance-1.0.jar, /home/vagrant/.ivy2/cache/org.sonatype.sisu.inject/cglib/jars/cglib-2.2.1-v20090111.jar, /home/vagrant/.ivy2/cache/asm/asm/jars/asm-3.2.jar, /home/vagrant/.ivy2/cache/com.sun.jersey.jersey-test-framework/jersey-test-framework-grizzly2/jars/jersey-test-framework-grizzly2-1.9.jar, /home/vagrant/.ivy2/cache/com.sun.jersey/jersey-server/bundles/jersey-server-1.9.jar, /home/vagrant/.ivy2/cache/com.sun.jersey/jersey-json/bundles/jersey-json-1.9.jar, /home/vagrant/.ivy2/cache/org.codehaus.jettison/jettison/bundles/jettison-1.1.jar, /home/vagrant/.ivy2/cache/stax/stax-api/jars/stax-api-1.0.1.jar, /home/vagrant/.ivy2/cache/com.sun.xml.bind/jaxb-impl/jars/jaxb-impl-2.2.3-1.jar, /home/vagrant/.ivy2/cache/javax.xml.bind/jaxb-api/jars/jaxb-api-2.2.2.jar, /home/vagrant/.ivy2/cache/javax.activation/activation/jars/activation-1.1.jar, /home/vagrant/.ivy2/cache/org.codehaus.jackson/jackson-jaxrs/jars/jackson-jaxrs-1.8.8.jar, /home/vagrant/.ivy2/cache/org.codehaus.jackson/jackson-xc/jars/jackson-xc-1.8.8.jar, /home/vagrant/.ivy2/cache/com.sun.jersey.contribs/jersey-guice/jars/jersey-guice-1.9.jar, /home/vagrant/.ivy2/cache/org.apache.hadoop/hadoop-yarn-client/jars/hadoop-yarn-client-2.2.0.jar, /home/vagrant/.ivy2/cache/org.apache.hadoop/hadoop-mapreduce-client-core/jars/hadoop-mapreduce-client-core-2.2.0.jar, /home/vagrant/.ivy2/cache/org.apache.hadoop/hadoop-yarn-server-common/jars/hadoop-yarn-server-common-2.2.0.jar, /home/vagrant/.ivy2/cache/org.apache.hadoop/hadoop-mapreduce-client-shuffle/jars/hadoop-mapreduce-client-shuffle-2.2.0.jar, /home/vagrant/.ivy2/cache/org.apache.hadoop/hadoop-mapreduce-client-jobclient/jars/hadoop-mapreduce-client-jobclient-2.2.0.jar, /home/vagrant/.ivy2/cache/org.apache.spark/spark-network-common_2.10/jars/spark-network-common_2.10-1.3.0.jar, /home/vagrant/.ivy2/cache/io.netty/netty-all/jars/netty-all-4.0.23.Final.jar, /home/vagrant/.ivy2/cache/org.spark-project.spark/unused/jars/unused-1.0.0.jar, /home/vagrant/.ivy2/cache/org.apache.spark/spark-network-shuffle_2.10/jars/spark-network-shuffle_2.10-1.3.0.jar, /home/vagrant/.ivy2/cache/net.java.dev.jets3t/jets3t/jars/jets3t-0.7.1.jar, /home/vagrant/.ivy2/cache/org.apache.curator/curator-recipes/bundles/curator-recipes-2.4.0.jar, /home/vagrant/.ivy2/cache/org.apache.curator/curator-framework/bundles/curator-framework-2.4.0.jar, /home/vagrant/.ivy2/cache/org.apache.curator/curator-client/bundles/curator-client-2.4.0.jar, /home/vagrant/.ivy2/cache/org.apache.zookeeper/zookeeper/jars/zookeeper-3.4.5.jar, /home/vagrant/.ivy2/cache/jline/jline/jars/jline-0.9.94.jar, /home/vagrant/.ivy2/cache/com.google.guava/guava/bundles/guava-14.0.1.jar, /home/vagrant/.ivy2/cache/org.eclipse.jetty.orbit/javax.servlet/orbits/javax.servlet-3.0.0.v201112011016.jar, /home/vagrant/.ivy2/cache/org.apache.commons/commons-lang3/jars/commons-lang3-3.3.2.jar, /home/vagrant/.ivy2/cache/org.apache.commons/commons-math3/jars/commons-math3-3.1.1.jar, /home/vagrant/.ivy2/cache/org.slf4j/slf4j-api/jars/slf4j-api-1.7.10.jar, /home/vagrant/.ivy2/cache/org.slf4j/jul-to-slf4j/jars/jul-to-slf4j-1.7.10.jar, /home/vagrant/.ivy2/cache/org.slf4j/jcl-over-slf4j/jars/jcl-over-slf4j-1.7.10.jar, /home/vagrant/.ivy2/cache/org.slf4j/slf4j-log4j12/jars/slf4j-log4j12-1.7.10.jar, /home/vagrant/.ivy2/cache/com.ning/compress-lzf/bundles/compress-lzf-1.0.0.jar, /home/vagrant/.ivy2/cache/org.xerial.snappy/snappy-java/bundles/snappy-java-1.1.1.6.jar, /home/vagrant/.ivy2/cache/net.jpountz.lz4/lz4/jars/lz4-1.2.0.jar, /home/vagrant/.ivy2/cache/org.roaringbitmap/RoaringBitmap/bundles/RoaringBitmap-0.4.5.jar, /home/vagrant/.ivy2/cache/org.spark-project.akka/akka-remote_2.10/jars/akka-remote_2.10-2.3.4-spark.jar, /home/vagrant/.ivy2/cache/org.spark-project.akka/akka-actor_2.10/jars/akka-actor_2.10-2.3.4-spark.jar, /home/vagrant/.ivy2/cache/com.typesafe/config/bundles/config-1.2.1.jar, /home/vagrant/.ivy2/cache/io.netty/netty/bundles/netty-3.8.0.Final.jar, /home/vagrant/.ivy2/cache/org.spark-project.protobuf/protobuf-java/bundles/protobuf-java-2.5.0-spark.jar, /home/vagrant/.ivy2/cache/org.uncommons.maths/uncommons-maths/jars/uncommons-maths-1.2.2a.jar, /home/vagrant/.ivy2/cache/org.spark-project.akka/akka-slf4j_2.10/jars/akka-slf4j_2.10-2.3.4-spark.jar, /home/vagrant/.ivy2/cache/org.json4s/json4s-jackson_2.10/jars/json4s-jackson_2.10-3.2.10.jar, /home/vagrant/.ivy2/cache/org.json4s/json4s-core_2.10/jars/json4s-core_2.10-3.2.10.jar, /home/vagrant/.ivy2/cache/org.json4s/json4s-ast_2.10/jars/json4s-ast_2.10-3.2.10.jar, /home/vagrant/.ivy2/cache/com.thoughtworks.paranamer/paranamer/jars/paranamer-2.6.jar, /home/vagrant/.ivy2/cache/org.scala-lang/scalap/jars/scalap-2.10.0.jar, /home/vagrant/.ivy2/cache/com.fasterxml.jackson.core/jackson-databind/bundles/jackson-databind-2.4.4.jar, /home/vagrant/.ivy2/cache/com.fasterxml.jackson.core/jackson-core/bundles/jackson-core-2.4.4.jar, /home/vagrant/.ivy2/cache/org.apache.mesos/mesos/jars/mesos-0.21.0-shaded-protobuf.jar, /home/vagrant/.ivy2/cache/com.clearspring.analytics/stream/jars/stream-2.7.0.jar, /home/vagrant/.ivy2/cache/io.dropwizard.metrics/metrics-core/bundles/metrics-core-3.1.0.jar, /home/vagrant/.ivy2/cache/io.dropwizard.metrics/metrics-jvm/bundles/metrics-jvm-3.1.0.jar, /home/vagrant/.ivy2/cache/io.dropwizard.metrics/metrics-json/bundles/metrics-json-3.1.0.jar, /home/vagrant/.ivy2/cache/io.dropwizard.metrics/metrics-graphite/bundles/metrics-graphite-3.1.0.jar, /home/vagrant/.ivy2/cache/com.fasterxml.jackson.module/jackson-module-scala_2.10/bundles/jackson-module-scala_2.10-2.4.4.jar, /home/vagrant/.ivy2/cache/com.fasterxml.jackson.core/jackson-annotations/bundles/jackson-annotations-2.4.4.jar, /home/vagrant/.ivy2/cache/org.apache.ivy/ivy/jars/ivy-2.4.0.jar, /home/vagrant/.ivy2/cache/oro/oro/jars/oro-2.0.8.jar, /home/vagrant/.ivy2/cache/org.tachyonproject/tachyon-client/jars/tachyon-client-0.5.0.jar, /home/vagrant/.ivy2/cache/org.tachyonproject/tachyon/jars/tachyon-0.5.0.jar, /home/vagrant/.ivy2/cache/commons-io/commons-io/jars/commons-io-2.4.jar, /home/vagrant/.ivy2/cache/org.spark-project/pyrolite/jars/pyrolite-2.0.1.jar, /home/vagrant/.ivy2/cache/net.sf.py4j/py4j/jars/py4j-0.8.2.1.jar, /home/vagrant/.ivy2/cache/org.apache.spark/spark-sql_2.10/jars/spark-sql_2.10-1.3.0.jar, /home/vagrant/.ivy2/cache/org.apache.spark/spark-catalyst_2.10/jars/spark-catalyst_2.10-1.3.0.jar, /home/vagrant/.ivy2/cache/org.scalamacros/quasiquotes_2.10/jars/quasiquotes_2.10-2.0.1.jar, /home/vagrant/.ivy2/cache/com.twitter/parquet-column/jars/parquet-column-1.6.0rc3.jar, /home/vagrant/.ivy2/cache/com.twitter/parquet-common/jars/parquet-common-1.6.0rc3.jar, /home/vagrant/.ivy2/cache/com.twitter/parquet-encoding/jars/parquet-encoding-1.6.0rc3.jar, /home/vagrant/.ivy2/cache/com.twitter/parquet-generator/jars/parquet-generator-1.6.0rc3.jar, /home/vagrant/.ivy2/cache/commons-codec/commons-codec/jars/commons-codec-1.5.jar, /home/vagrant/.ivy2/cache/com.twitter/parquet-hadoop/jars/parquet-hadoop-1.6.0rc3.jar, /home/vagrant/.ivy2/cache/com.twitter/parquet-format/jars/parquet-format-2.2.0-rc1.jar, /home/vagrant/.ivy2/cache/com.twitter/parquet-jackson/jars/parquet-jackson-1.6.0rc3.jar, /home/vagrant/.ivy2/cache/org.codehaus.jackson/jackson-mapper-asl/jars/jackson-mapper-asl-1.9.11.jar, /home/vagrant/.ivy2/cache/org.codehaus.jackson/jackson-core-asl/jars/jackson-core-asl-1.9.11.jar, /home/vagrant/.ivy2/cache/org.jodd/jodd-core/jars/jodd-core-3.6.3.jar, /home/vagrant/.ivy2/cache/org.apache.spark/spark-bagel_2.10/jars/spark-bagel_2.10-1.3.0.jar, /home/vagrant/.ivy2/cache/org.apache.spark/spark-mllib_2.10/jars/spark-mllib_2.10-1.3.0.jar, /home/vagrant/.ivy2/cache/org.apache.spark/spark-streaming_2.10/jars/spark-streaming_2.10-1.3.0.jar, /home/vagrant/.ivy2/cache/org.apache.spark/spark-graphx_2.10/jars/spark-graphx_2.10-1.3.0.jar, /home/vagrant/.ivy2/cache/org.jblas/jblas/jars/jblas-1.2.3.jar, /home/vagrant/.ivy2/cache/org.scalanlp/breeze_2.10/jars/breeze_2.10-0.11.1.jar, /home/vagrant/.ivy2/cache/org.scalanlp/breeze-macros_2.10/jars/breeze-macros_2.10-0.11.1.jar, /home/vagrant/.ivy2/cache/com.github.fommil.netlib/core/jars/core-1.1.2.jar, /home/vagrant/.ivy2/cache/net.sourceforge.f2j/arpack_combined_all/jars/arpack_combined_all-0.1-javadoc.jar, /home/vagrant/.ivy2/cache/net.sourceforge.f2j/arpack_combined_all/jars/arpack_combined_all-0.1.jar, /home/vagrant/.ivy2/cache/net.sf.opencsv/opencsv/jars/opencsv-2.3.jar, /home/vagrant/.ivy2/cache/com.github.rwl/jtransforms/jars/jtransforms-2.4.0.jar, /home/vagrant/.ivy2/cache/org.spire-math/spire_2.10/jars/spire_2.10-0.7.4.jar, /home/vagrant/.ivy2/cache/org.spire-math/spire-macros_2.10/jars/spire-macros_2.10-0.7.4.jar, /home/vagrant/.ivy2/cache/org.scala-lang/scala-library/jars/scala-library-2.10.4.jar, /home/vagrant/.ivy2/cache/org.scala-lang/scala-compiler/jars/scala-compiler-2.10.4.jar, /home/vagrant/.ivy2/cache/org.scala-lang/scala-reflect/jars/scala-reflect-2.10.4.jar, /home/vagrant/.ivy2/cache/org.scala-lang/scala-library/jars/scala-library-2.10.4.jar, /home/vagrant/.ivy2/cache/org.scala-lang/scala-compiler/jars/scala-compiler-2.10.4.jar, /home/vagrant/.ivy2/cache/org.scala-lang/scala-reflect/jars/scala-reflect-2.10.4.jar, /home/vagrant/.ivy2/cache/org.scala-lang/scala-library/jars/scala-library-2.10.4.jar, /home/vagrant/.ivy2/cache/org.scala-lang/scala-compiler/jars/scala-compiler-2.10.4.jar, /home/vagrant/.ivy2/cache/org.scala-lang/scala-reflect/jars/scala-reflect-2.10.4.jar),\n  parent = sun.misc.Launcher$AppClassLoader@70dea4e,\n  resourceMap = Set(app.class.path, boot.class.path),\n  nativeTemp = /tmp/sbt_17e7d7e4\n)\n  root = sun.misc.Launcher$AppClassLoader@70dea4e\n  cp = Set(/home/vagrant/.ivy2/cache/com.twitter/parquet-jackson/jars/parquet-jackson-1.6.0rc3.jar, /home/vagrant/.ivy2/cache/org.scala-lang/scala-compiler/jars/scala-compiler-2.10.4.jar, /home/vagrant/.ivy2/cache/org.apache.curator/curator-framework/bundles/curator-framework-2.4.0.jar, /home/vagrant/.ivy2/cache/org.spark-project.akka/akka-slf4j_2.10/jars/akka-slf4j_2.10-2.3.4-spark.jar, /home/vagrant/.ivy2/cache/com.twitter/parquet-common/jars/parquet-common-1.6.0rc3.jar, /home/vagrant/.ivy2/cache/com.typesafe/config/bundles/config-1.2.1.jar, /home/vagrant/.ivy2/cache/org.apache.commons/commons-math3/jars/commons-math3-3.1.1.jar, /home/vagrant/.ivy2/cache/org.apache.commons/commons-math/jars/commons-math-2.1.jar, /home/vagrant/.ivy2/cache/org.spark-project/pyrolite/jars/pyrolite-2.0.1.jar, /home/vagrant/.ivy2/cache/org.fusesource.jansi/jansi/jars/jansi-1.4.jar, /home/vagrant/.ivy2/cache/commons-net/commons-net/jars/commons-net-2.2.jar, /home/vagrant/.ivy2/cache/org.apache.spark/spark-repl_2.10/jars/spark-repl_2.10-1.3.0.jar, /home/vagrant/.ivy2/cache/com.thoughtworks.paranamer/paranamer/jars/paranamer-2.6.jar, /home/vagrant/.ivy2/cache/org.scala-lang/scala-reflect/jars/scala-reflect-2.10.4.jar, /home/vagrant/.ivy2/cache/io.netty/netty/bundles/netty-3.8.0.Final.jar, /home/vagrant/.ivy2/cache/org.tachyonproject/tachyon-client/jars/tachyon-client-0.5.0.jar, /home/vagrant/.ivy2/cache/com.twitter/parquet-generator/jars/parquet-generator-1.6.0rc3.jar, /home/vagrant/.ivy2/cache/javax.activation/activation/jars/activation-1.1.jar, /home/vagrant/.ivy2/cache/com.twitter/parquet-encoding/jars/parquet-encoding-1.6.0rc3.jar, /home/vagrant/.ivy2/cache/org.apache.hadoop/hadoop-client/jars/hadoop-client-2.2.0.jar, /home/vagrant/.ivy2/cache/com.ning/compress-lzf/bundles/compress-lzf-1.0.0.jar, /home/vagrant/.ivy2/cache/org.scalanlp/breeze_2.10/jars/breeze_2.10-0.11.1.jar, /home/vagrant/.ivy2/cache/com.sun.jersey/jersey-server/bundles/jersey-server-1.9.jar, /home/vagrant/.ivy2/cache/net.sf.py4j/py4j/jars/py4j-0.8.2.1.jar, /home/vagrant/.ivy2/cache/org.apache.zookeeper/zookeeper/jars/zookeeper-3.4.5.jar, /home/vagrant/.ivy2/cache/org.apache.curator/curator-recipes/bundles/curator-recipes-2.4.0.jar, /home/vagrant/.ivy2/cache/org.codehaus.jettison/jettison/bundles/jettison-1.1.jar, /home/vagrant/.ivy2/cache/net.sourceforge.f2j/arpack_combined_all/jars/arpack_combined_all-0.1.jar, /home/vagrant/.ivy2/cache/org.apache.hadoop/hadoop-mapreduce-client-shuffle/jars/hadoop-mapreduce-client-shuffle-2.2.0.jar, /home/vagrant/.ivy2/cache/org.apache.hadoop/hadoop-yarn-server-common/jars/hadoop-yarn-server-common-2.2.0.jar, /home/vagrant/.ivy2/cache/io.dropwizard.metrics/metrics-core/bundles/metrics-core-3.1.0.jar, /home/vagrant/.ivy2/cache/commons-io/commons-io/jars/commons-io-2.4.jar, /home/vagrant/.ivy2/cache/com.clearspring.analytics/stream/jars/stream-2.7.0.jar, /home/vagrant/.ivy2/cache/org.objenesis/objenesis/jars/objenesis-1.2.jar, /home/vagrant/.ivy2/cache/commons-beanutils/commons-beanutils/jars/commons-beanutils-1.7.0.jar, /home/vagrant/.ivy2/cache/org.json4s/json4s-ast_2.10/jars/json4s-ast_2.10-3.2.10.jar, /home/vagrant/.ivy2/cache/org.roaringbitmap/RoaringBitmap/bundles/RoaringBitmap-0.4.5.jar, /home/vagrant/.ivy2/cache/org.slf4j/slf4j-api/jars/slf4j-api-1.7.10.jar, /home/vagrant/.ivy2/cache/org.apache.hadoop/hadoop-auth/jars/hadoop-auth-2.2.0.jar, /home/vagrant/.ivy2/cache/org.codehaus.jackson/jackson-mapper-asl/jars/jackson-mapper-asl-1.9.11.jar, /home/vagrant/.ivy2/cache/org.apache.hadoop/hadoop-mapreduce-client-core/jars/hadoop-mapreduce-client-core-2.2.0.jar, /home/vagrant/.ivy2/cache/commons-net/commons-net/jars/commons-net-3.1.jar, /home/vagrant/.ivy2/cache/org.apache.spark/spark-graphx_2.10/jars/spark-graphx_2.10-1.3.0.jar, /home/vagrant/.ivy2/cache/org.slf4j/jcl-over-slf4j/jars/jcl-over-slf4j-1.7.10.jar, /home/vagrant/.ivy2/cache/org.json4s/json4s-core_2.10/jars/json4s-core_2.10-3.2.10.jar, /home/vagrant/.ivy2/cache/org.apache.ivy/ivy/jars/ivy-2.4.0.jar, /home/vagrant/.ivy2/cache/commons-httpclient/commons-httpclient/jars/commons-httpclient-3.1.jar, /home/vagrant/.ivy2/cache/jline/jline/jars/jline-0.9.94.jar, /home/vagrant/.ivy2/cache/org.apache.spark/spark-network-common_2.10/jars/spark-network-common_2.10-1.3.0.jar, /home/vagrant/.ivy2/cache/org.jblas/jblas/jars/jblas-1.2.3.jar, /home/vagrant/.ivy2/cache/org.jodd/jodd-core/jars/jodd-core-3.6.3.jar, /home/vagrant/.ivy2/cache/org.apache.spark/spark-core_2.10/jars/spark-core_2.10-1.3.0.jar, /home/vagrant/.ivy2/cache/net.sourceforge.f2j/arpack_combined_all/jars/arpack_combined_all-0.1-javadoc.jar, /home/vagrant/.ivy2/cache/commons-lang/commons-lang/jars/commons-lang-2.5.jar, /home/vagrant/.ivy2/cache/io.dropwizard.metrics/metrics-graphite/bundles/metrics-graphite-3.1.0.jar, /home/vagrant/.ivy2/cache/com.esotericsoftware.kryo/kryo/bundles/kryo-2.21.jar, /home/vagrant/.ivy2/cache/org.scalanlp/breeze-macros_2.10/jars/breeze-macros_2.10-0.11.1.jar, /home/vagrant/.ivy2/cache/org.uncommons.maths/uncommons-maths/jars/uncommons-maths-1.2.2a.jar, /home/vagrant/.ivy2/cache/org.codehaus.jackson/jackson-xc/jars/jackson-xc-1.8.8.jar, /home/vagrant/.ivy2/cache/commons-collections/commons-collections/jars/commons-collections-3.2.1.jar, /home/vagrant/.ivy2/cache/org.mortbay.jetty/jetty-util/jars/jetty-util-6.1.26.jar, /home/vagrant/.ivy2/cache/com.twitter/parquet-column/jars/parquet-column-1.6.0rc3.jar, /home/vagrant/.ivy2/cache/org.apache.spark/spark-bagel_2.10/jars/spark-bagel_2.10-1.3.0.jar, /home/vagrant/.ivy2/cache/org.apache.hadoop/hadoop-mapreduce-client-jobclient/jars/hadoop-mapreduce-client-jobclient-2.2.0.jar, /home/vagrant/.ivy2/cache/net.sf.opencsv/opencsv/jars/opencsv-2.3.jar, /home/vagrant/.ivy2/cache/org.spire-math/spire_2.10/jars/spire_2.10-0.7.4.jar, /home/vagrant/.ivy2/cache/org.apache.spark/spark-network-shuffle_2.10/jars/spark-network-shuffle_2.10-1.3.0.jar, /home/vagrant/.ivy2/cache/org.scala-lang/scalap/jars/scalap-2.10.0.jar, /home/vagrant/.ivy2/cache/org.apache.commons/commons-compress/jars/commons-compress-1.4.1.jar, /home/vagrant/.ivy2/cache/org.sonatype.sisu.inject/cglib/jars/cglib-2.2.1-v20090111.jar, /home/vagrant/.ivy2/cache/org.spark-project.akka/akka-actor_2.10/jars/akka-actor_2.10-2.3.4-spark.jar, /home/vagrant/.ivy2/cache/org.apache.hadoop/hadoop-yarn-common/jars/hadoop-yarn-common-2.2.0.jar, /home/vagrant/.ivy2/cache/commons-cli/commons-cli/jars/commons-cli-1.2.jar, /home/vagrant/.ivy2/cache/sh.jove/jove-bridge_2.10/jars/jove-bridge_2.10-0.1.1-1-SNAPSHOT.jar, /home/vagrant/.ivy2/cache/org.apache.hadoop/hadoop-common/jars/hadoop-common-2.2.0.jar, /home/vagrant/.ivy2/cache/com.esotericsoftware.reflectasm/reflectasm/jars/reflectasm-1.07-shaded.jar, /home/vagrant/.ivy2/cache/org.apache.spark/spark-catalyst_2.10/jars/spark-catalyst_2.10-1.3.0.jar, /home/vagrant/.ivy2/cache/com.github.rwl/jtransforms/jars/jtransforms-2.4.0.jar, /home/vagrant/.ivy2/cache/asm/asm/jars/asm-3.2.jar, /home/vagrant/.ivy2/cache/commons-logging/commons-logging/jars/commons-logging-1.1.1.jar, /home/vagrant/.ivy2/cache/org.tukaani/xz/jars/xz-1.0.jar, /home/vagrant/.ivy2/cache/commons-beanutils/commons-beanutils-core/jars/commons-beanutils-core-1.8.0.jar, /home/vagrant/.ivy2/cache/io.dropwizard.metrics/metrics-json/bundles/metrics-json-3.1.0.jar, /home/vagrant/.ivy2/cache/org.json4s/json4s-jackson_2.10/jars/json4s-jackson_2.10-3.2.10.jar, /home/vagrant/.ivy2/cache/org.spark-project.protobuf/protobuf-java/bundles/protobuf-java-2.5.0-spark.jar, /home/vagrant/.ivy2/cache/com.twitter/parquet-format/jars/parquet-format-2.2.0-rc1.jar, /home/vagrant/.ivy2/cache/org.spark-project.spark/unused/jars/unused-1.0.0.jar, /home/vagrant/.ivy2/cache/com.fasterxml.jackson.core/jackson-annotations/bundles/jackson-annotations-2.4.4.jar, /home/vagrant/.ivy2/cache/commons-configuration/commons-configuration/jars/commons-configuration-1.6.jar, /home/vagrant/.ivy2/cache/commons-codec/commons-codec/jars/commons-codec-1.5.jar, /home/vagrant/.ivy2/cache/org.apache.curator/curator-client/bundles/curator-client-2.4.0.jar, /home/vagrant/.ivy2/cache/com.fasterxml.jackson.core/jackson-core/bundles/jackson-core-2.4.4.jar, /home/vagrant/.ivy2/cache/org.apache.hadoop/hadoop-mapreduce-client-common/jars/hadoop-mapreduce-client-common-2.2.0.jar, /home/vagrant/.ivy2/cache/org.apache.hadoop/hadoop-yarn-api/jars/hadoop-yarn-api-2.2.0.jar, /home/vagrant/.ivy2/cache/com.sun.jersey.jersey-test-framework/jersey-test-framework-grizzly2/jars/jersey-test-framework-grizzly2-1.9.jar, /home/vagrant/.ivy2/cache/com.sun.xml.bind/jaxb-impl/jars/jaxb-impl-2.2.3-1.jar, /home/vagrant/.ivy2/cache/org.apache.avro/avro/jars/avro-1.7.4.jar, /home/vagrant/.ivy2/cache/org.apache.spark/spark-streaming_2.10/jars/spark-streaming_2.10-1.3.0.jar, /home/vagrant/.ivy2/cache/org.scala-lang/scala-library/jars/scala-library-2.10.4.jar, /home/vagrant/.ivy2/cache/com.fasterxml.jackson.module/jackson-module-scala_2.10/bundles/jackson-module-scala_2.10-2.4.4.jar, /home/vagrant/.ivy2/cache/commons-digester/commons-digester/jars/commons-digester-1.8.jar, /home/vagrant/.ivy2/cache/com.google.inject/guice/jars/guice-3.0.jar, /home/vagrant/.ivy2/cache/com.sun.jersey/jersey-json/bundles/jersey-json-1.9.jar, /home/vagrant/.ivy2/cache/org.apache.spark/spark-sql_2.10/jars/spark-sql_2.10-1.3.0.jar, /home/vagrant/.ivy2/cache/com.fasterxml.jackson.core/jackson-databind/bundles/jackson-databind-2.4.4.jar, /home/vagrant/.ivy2/cache/org.apache.mesos/mesos/jars/mesos-0.21.0-shaded-protobuf.jar, /home/vagrant/.ivy2/cache/javax.inject/javax.inject/jars/javax.inject-1.jar, /home/vagrant/.ivy2/cache/log4j/log4j/bundles/log4j-1.2.17.jar, /home/vagrant/.ivy2/cache/com.google.protobuf/protobuf-java/bundles/protobuf-java-2.5.0.jar, /home/vagrant/.ivy2/cache/oro/oro/jars/oro-2.0.8.jar, /home/vagrant/.ivy2/cache/javax.xml.bind/jaxb-api/jars/jaxb-api-2.2.2.jar, /home/vagrant/.ivy2/cache/com.google.code.findbugs/jsr305/jars/jsr305-1.3.9.jar, /home/vagrant/.ivy2/cache/org.apache.commons/commons-lang3/jars/commons-lang3-3.3.2.jar, /home/vagrant/.ivy2/cache/xmlenc/xmlenc/jars/xmlenc-0.52.jar, /home/vagrant/.ivy2/cache/org.apache.hadoop/hadoop-yarn-server-nodemanager/jars/hadoop-yarn-server-nodemanager-2.2.0.jar, /home/vagrant/.ivy2/cache/org.apache.hadoop/hadoop-annotations/jars/hadoop-annotations-2.2.0.jar, /home/vagrant/.ivy2/cache/net.jpountz.lz4/lz4/jars/lz4-1.2.0.jar, /home/vagrant/.ivy2/cache/org.apache.hadoop/hadoop-mapreduce-client-app/jars/hadoop-mapreduce-client-app-2.2.0.jar, /home/vagrant/.ivy2/cache/org.codehaus.jackson/jackson-jaxrs/jars/jackson-jaxrs-1.8.8.jar, /home/vagrant/.ivy2/cache/stax/stax-api/jars/stax-api-1.0.1.jar, /home/vagrant/.ivy2/cache/org.apache.hadoop/hadoop-hdfs/jars/hadoop-hdfs-2.2.0.jar, /home/vagrant/.ivy2/cache/com.esotericsoftware.minlog/minlog/jars/minlog-1.2.jar, /home/vagrant/.ivy2/cache/org.xerial.snappy/snappy-java/bundles/snappy-java-1.1.1.6.jar, /home/vagrant/.ivy2/cache/org.spark-project.akka/akka-remote_2.10/jars/akka-remote_2.10-2.3.4-spark.jar, /home/vagrant/.ivy2/cache/org.apache.spark/spark-mllib_2.10/jars/spark-mllib_2.10-1.3.0.jar, /home/vagrant/.ivy2/cache/org.codehaus.jackson/jackson-core-asl/jars/jackson-core-asl-1.9.11.jar, /home/vagrant/.ivy2/cache/org.scalamacros/quasiquotes_2.10/jars/quasiquotes_2.10-2.0.1.jar, /home/vagrant/.ivy2/cache/io.dropwizard.metrics/metrics-jvm/bundles/metrics-jvm-3.1.0.jar, /home/vagrant/.ivy2/cache/com.twitter/parquet-hadoop/jars/parquet-hadoop-1.6.0rc3.jar, /home/vagrant/.ivy2/cache/org.spire-math/spire-macros_2.10/jars/spire-macros_2.10-0.7.4.jar, /home/vagrant/.ivy2/cache/org.scala-lang/jline/jars/jline-2.10.4.jar, /home/vagrant/.ivy2/cache/org.eclipse.jetty.orbit/javax.servlet/orbits/javax.servlet-3.0.0.v201112011016.jar, /home/vagrant/.ivy2/cache/net.java.dev.jets3t/jets3t/jars/jets3t-0.7.1.jar, /home/vagrant/.ivy2/cache/org.apache.hadoop/hadoop-yarn-client/jars/hadoop-yarn-client-2.2.0.jar, /home/vagrant/.ivy2/cache/io.netty/netty-all/jars/netty-all-4.0.23.Final.jar, /home/vagrant/.ivy2/cache/com.twitter/chill-java/jars/chill-java-0.5.0.jar, /home/vagrant/.ivy2/cache/org.slf4j/jul-to-slf4j/jars/jul-to-slf4j-1.7.10.jar, /home/vagrant/.ivy2/cache/com.twitter/chill_2.10/jars/chill_2.10-0.5.0.jar, /home/vagrant/.ivy2/cache/com.google.guava/guava/bundles/guava-14.0.1.jar, /home/vagrant/.ivy2/cache/com.github.fommil.netlib/core/jars/core-1.1.2.jar, /home/vagrant/.ivy2/cache/aopalliance/aopalliance/jars/aopalliance-1.0.jar, /home/vagrant/.ivy2/cache/org.tachyonproject/tachyon/jars/tachyon-0.5.0.jar, /home/vagrant/.ivy2/cache/org.slf4j/slf4j-log4j12/jars/slf4j-log4j12-1.7.10.jar, /home/vagrant/.ivy2/cache/com.sun.jersey.contribs/jersey-guice/jars/jersey-guice-1.9.jar)\n)",
     "output_type": "error",
     "traceback": [
      "org.apache.spark.SparkException: Job aborted due to stage failure: ClassNotFound with classloader: ClasspathFilter(\n  parent = URLClassLoader with NativeCopyLoader with RawResources(\n  urls = ArraySeq(/home/vagrant/.ivy2/cache/sh.jove/jove-bridge_2.10/jars/jove-bridge_2.10-0.1.1-1-SNAPSHOT.jar, /home/vagrant/.ivy2/cache/org.apache.spark/spark-repl_2.10/jars/spark-repl_2.10-1.3.0.jar, /home/vagrant/.ivy2/cache/org.scala-lang/jline/jars/jline-2.10.4.jar, /home/vagrant/.ivy2/cache/org.fusesource.jansi/jansi/jars/jansi-1.4.jar, /home/vagrant/.ivy2/cache/org.apache.spark/spark-core_2.10/jars/spark-core_2.10-1.3.0.jar, /home/vagrant/.ivy2/cache/com.twitter/chill_2.10/jars/chill_2.10-0.5.0.jar, /home/vagrant/.ivy2/cache/com.twitter/chill-java/jars/chill-java-0.5.0.jar, /home/vagrant/.ivy2/cache/com.esotericsoftware.kryo/kryo/bundles/kryo-2.21.jar, /home/vagrant/.ivy2/cache/com.esotericsoftware.reflectasm/reflectasm/jars/reflectasm-1.07-shaded.jar, /home/vagrant/.ivy2/cache/com.esotericsoftware.minlog/minlog/jars/minlog-1.2.jar, /home/vagrant/.ivy2/cache/org.objenesis/objenesis/jars/objenesis-1.2.jar, /home/vagrant/.ivy2/cache/org.apache.hadoop/hadoop-client/jars/hadoop-client-2.2.0.jar, /home/vagrant/.ivy2/cache/org.apache.hadoop/hadoop-common/jars/hadoop-common-2.2.0.jar, /home/vagrant/.ivy2/cache/org.apache.hadoop/hadoop-annotations/jars/hadoop-annotations-2.2.0.jar, /home/vagrant/.ivy2/cache/com.google.code.findbugs/jsr305/jars/jsr305-1.3.9.jar, /home/vagrant/.ivy2/cache/commons-cli/commons-cli/jars/commons-cli-1.2.jar, /home/vagrant/.ivy2/cache/org.apache.commons/commons-math/jars/commons-math-2.1.jar, /home/vagrant/.ivy2/cache/xmlenc/xmlenc/jars/xmlenc-0.52.jar, /home/vagrant/.ivy2/cache/commons-httpclient/commons-httpclient/jars/commons-httpclient-3.1.jar, /home/vagrant/.ivy2/cache/commons-logging/commons-logging/jars/commons-logging-1.1.1.jar, /home/vagrant/.ivy2/cache/log4j/log4j/bundles/log4j-1.2.17.jar, /home/vagrant/.ivy2/cache/commons-lang/commons-lang/jars/commons-lang-2.5.jar, /home/vagrant/.ivy2/cache/commons-configuration/commons-configuration/jars/commons-configuration-1.6.jar, /home/vagrant/.ivy2/cache/commons-collections/commons-collections/jars/commons-collections-3.2.1.jar, /home/vagrant/.ivy2/cache/commons-digester/commons-digester/jars/commons-digester-1.8.jar, /home/vagrant/.ivy2/cache/commons-beanutils/commons-beanutils/jars/commons-beanutils-1.7.0.jar, /home/vagrant/.ivy2/cache/commons-beanutils/commons-beanutils-core/jars/commons-beanutils-core-1.8.0.jar, /home/vagrant/.ivy2/cache/org.apache.avro/avro/jars/avro-1.7.4.jar, /home/vagrant/.ivy2/cache/org.apache.commons/commons-compress/jars/commons-compress-1.4.1.jar, /home/vagrant/.ivy2/cache/org.tukaani/xz/jars/xz-1.0.jar, /home/vagrant/.ivy2/cache/com.google.protobuf/protobuf-java/bundles/protobuf-java-2.5.0.jar, /home/vagrant/.ivy2/cache/org.apache.hadoop/hadoop-auth/jars/hadoop-auth-2.2.0.jar, /home/vagrant/.ivy2/cache/org.apache.hadoop/hadoop-hdfs/jars/hadoop-hdfs-2.2.0.jar, /home/vagrant/.ivy2/cache/org.mortbay.jetty/jetty-util/jars/jetty-util-6.1.26.jar, /home/vagrant/.ivy2/cache/org.apache.hadoop/hadoop-mapreduce-client-app/jars/hadoop-mapreduce-client-app-2.2.0.jar, /home/vagrant/.ivy2/cache/org.apache.hadoop/hadoop-mapreduce-client-common/jars/hadoop-mapreduce-client-common-2.2.0.jar, /home/vagrant/.ivy2/cache/org.apache.hadoop/hadoop-yarn-common/jars/hadoop-yarn-common-2.2.0.jar, /home/vagrant/.ivy2/cache/org.apache.hadoop/hadoop-yarn-api/jars/hadoop-yarn-api-2.2.0.jar, /home/vagrant/.ivy2/cache/com.google.inject/guice/jars/guice-3.0.jar, /home/vagrant/.ivy2/cache/javax.inject/javax.inject/jars/javax.inject-1.jar, /home/vagrant/.ivy2/cache/aopalliance/aopalliance/jars/aopalliance-1.0.jar, /home/vagrant/.ivy2/cache/org.sonatype.sisu.inject/cglib/jars/cglib-2.2.1-v20090111.jar, /home/vagrant/.ivy2/cache/asm/asm/jars/asm-3.2.jar, /home/vagrant/.ivy2/cache/com.sun.jersey.jersey-test-framework/jersey-test-framework-grizzly2/jars/jersey-test-framework-grizzly2-1.9.jar, /home/vagrant/.ivy2/cache/com.sun.jersey/jersey-server/bundles/jersey-server-1.9.jar, /home/vagrant/.ivy2/cache/com.sun.jersey/jersey-json/bundles/jersey-json-1.9.jar, /home/vagrant/.ivy2/cache/org.codehaus.jettison/jettison/bundles/jettison-1.1.jar, /home/vagrant/.ivy2/cache/stax/stax-api/jars/stax-api-1.0.1.jar, /home/vagrant/.ivy2/cache/com.sun.xml.bind/jaxb-impl/jars/jaxb-impl-2.2.3-1.jar, /home/vagrant/.ivy2/cache/javax.xml.bind/jaxb-api/jars/jaxb-api-2.2.2.jar, /home/vagrant/.ivy2/cache/javax.activation/activation/jars/activation-1.1.jar, /home/vagrant/.ivy2/cache/org.codehaus.jackson/jackson-jaxrs/jars/jackson-jaxrs-1.8.8.jar, /home/vagrant/.ivy2/cache/org.codehaus.jackson/jackson-xc/jars/jackson-xc-1.8.8.jar, /home/vagrant/.ivy2/cache/com.sun.jersey.contribs/jersey-guice/jars/jersey-guice-1.9.jar, /home/vagrant/.ivy2/cache/org.apache.hadoop/hadoop-yarn-client/jars/hadoop-yarn-client-2.2.0.jar, /home/vagrant/.ivy2/cache/org.apache.hadoop/hadoop-mapreduce-client-core/jars/hadoop-mapreduce-client-core-2.2.0.jar, /home/vagrant/.ivy2/cache/org.apache.hadoop/hadoop-yarn-server-common/jars/hadoop-yarn-server-common-2.2.0.jar, /home/vagrant/.ivy2/cache/org.apache.hadoop/hadoop-mapreduce-client-shuffle/jars/hadoop-mapreduce-client-shuffle-2.2.0.jar, /home/vagrant/.ivy2/cache/org.apache.hadoop/hadoop-mapreduce-client-jobclient/jars/hadoop-mapreduce-client-jobclient-2.2.0.jar, /home/vagrant/.ivy2/cache/org.apache.spark/spark-network-common_2.10/jars/spark-network-common_2.10-1.3.0.jar, /home/vagrant/.ivy2/cache/io.netty/netty-all/jars/netty-all-4.0.23.Final.jar, /home/vagrant/.ivy2/cache/org.spark-project.spark/unused/jars/unused-1.0.0.jar, /home/vagrant/.ivy2/cache/org.apache.spark/spark-network-shuffle_2.10/jars/spark-network-shuffle_2.10-1.3.0.jar, /home/vagrant/.ivy2/cache/net.java.dev.jets3t/jets3t/jars/jets3t-0.7.1.jar, /home/vagrant/.ivy2/cache/org.apache.curator/curator-recipes/bundles/curator-recipes-2.4.0.jar, /home/vagrant/.ivy2/cache/org.apache.curator/curator-framework/bundles/curator-framework-2.4.0.jar, /home/vagrant/.ivy2/cache/org.apache.curator/curator-client/bundles/curator-client-2.4.0.jar, /home/vagrant/.ivy2/cache/org.apache.zookeeper/zookeeper/jars/zookeeper-3.4.5.jar, /home/vagrant/.ivy2/cache/jline/jline/jars/jline-0.9.94.jar, /home/vagrant/.ivy2/cache/com.google.guava/guava/bundles/guava-14.0.1.jar, /home/vagrant/.ivy2/cache/org.eclipse.jetty.orbit/javax.servlet/orbits/javax.servlet-3.0.0.v201112011016.jar, /home/vagrant/.ivy2/cache/org.apache.commons/commons-lang3/jars/commons-lang3-3.3.2.jar, /home/vagrant/.ivy2/cache/org.apache.commons/commons-math3/jars/commons-math3-3.1.1.jar, /home/vagrant/.ivy2/cache/org.slf4j/slf4j-api/jars/slf4j-api-1.7.10.jar, /home/vagrant/.ivy2/cache/org.slf4j/jul-to-slf4j/jars/jul-to-slf4j-1.7.10.jar, /home/vagrant/.ivy2/cache/org.slf4j/jcl-over-slf4j/jars/jcl-over-slf4j-1.7.10.jar, /home/vagrant/.ivy2/cache/org.slf4j/slf4j-log4j12/jars/slf4j-log4j12-1.7.10.jar, /home/vagrant/.ivy2/cache/com.ning/compress-lzf/bundles/compress-lzf-1.0.0.jar, /home/vagrant/.ivy2/cache/org.xerial.snappy/snappy-java/bundles/snappy-java-1.1.1.6.jar, /home/vagrant/.ivy2/cache/net.jpountz.lz4/lz4/jars/lz4-1.2.0.jar, /home/vagrant/.ivy2/cache/org.roaringbitmap/RoaringBitmap/bundles/RoaringBitmap-0.4.5.jar, /home/vagrant/.ivy2/cache/commons-net/commons-net/jars/commons-net-2.2.jar, /home/vagrant/.ivy2/cache/org.spark-project.akka/akka-remote_2.10/jars/akka-remote_2.10-2.3.4-spark.jar, /home/vagrant/.ivy2/cache/org.spark-project.akka/akka-actor_2.10/jars/akka-actor_2.10-2.3.4-spark.jar, /home/vagrant/.ivy2/cache/com.typesafe/config/bundles/config-1.2.1.jar, /home/vagrant/.ivy2/cache/io.netty/netty/bundles/netty-3.8.0.Final.jar, /home/vagrant/.ivy2/cache/org.spark-project.protobuf/protobuf-java/bundles/protobuf-java-2.5.0-spark.jar, /home/vagrant/.ivy2/cache/org.uncommons.maths/uncommons-maths/jars/uncommons-maths-1.2.2a.jar, /home/vagrant/.ivy2/cache/org.spark-project.akka/akka-slf4j_2.10/jars/akka-slf4j_2.10-2.3.4-spark.jar, /home/vagrant/.ivy2/cache/org.json4s/json4s-jackson_2.10/jars/json4s-jackson_2.10-3.2.10.jar, /home/vagrant/.ivy2/cache/org.json4s/json4s-core_2.10/jars/json4s-core_2.10-3.2.10.jar, /home/vagrant/.ivy2/cache/org.json4s/json4s-ast_2.10/jars/json4s-ast_2.10-3.2.10.jar, /home/vagrant/.ivy2/cache/com.thoughtworks.paranamer/paranamer/jars/paranamer-2.6.jar, /home/vagrant/.ivy2/cache/org.scala-lang/scalap/jars/scalap-2.10.0.jar, /home/vagrant/.ivy2/cache/org.apache.mesos/mesos/jars/mesos-0.21.0-shaded-protobuf.jar, /home/vagrant/.ivy2/cache/com.clearspring.analytics/stream/jars/stream-2.7.0.jar, /home/vagrant/.ivy2/cache/io.dropwizard.metrics/metrics-core/bundles/metrics-core-3.1.0.jar, /home/vagrant/.ivy2/cache/io.dropwizard.metrics/metrics-jvm/bundles/metrics-jvm-3.1.0.jar, /home/vagrant/.ivy2/cache/io.dropwizard.metrics/metrics-json/bundles/metrics-json-3.1.0.jar, /home/vagrant/.ivy2/cache/io.dropwizard.metrics/metrics-graphite/bundles/metrics-graphite-3.1.0.jar, /home/vagrant/.ivy2/cache/com.fasterxml.jackson.core/jackson-databind/bundles/jackson-databind-2.4.4.jar, /home/vagrant/.ivy2/cache/com.fasterxml.jackson.core/jackson-core/bundles/jackson-core-2.4.4.jar, /home/vagrant/.ivy2/cache/com.fasterxml.jackson.module/jackson-module-scala_2.10/bundles/jackson-module-scala_2.10-2.4.4.jar, /home/vagrant/.ivy2/cache/com.fasterxml.jackson.core/jackson-annotations/bundles/jackson-annotations-2.4.4.jar, /home/vagrant/.ivy2/cache/org.apache.ivy/ivy/jars/ivy-2.4.0.jar, /home/vagrant/.ivy2/cache/oro/oro/jars/oro-2.0.8.jar, /home/vagrant/.ivy2/cache/org.tachyonproject/tachyon-client/jars/tachyon-client-0.5.0.jar, /home/vagrant/.ivy2/cache/org.tachyonproject/tachyon/jars/tachyon-0.5.0.jar, /home/vagrant/.ivy2/cache/commons-io/commons-io/jars/commons-io-2.4.jar, /home/vagrant/.ivy2/cache/org.spark-project/pyrolite/jars/pyrolite-2.0.1.jar, /home/vagrant/.ivy2/cache/net.sf.py4j/py4j/jars/py4j-0.8.2.1.jar, /home/vagrant/.ivy2/cache/org.apache.hadoop/hadoop-yarn-server-nodemanager/jars/hadoop-yarn-server-nodemanager-2.2.0.jar, /home/vagrant/.ivy2/cache/org.apache.spark/spark-sql_2.10/jars/spark-sql_2.10-1.3.0.jar, /home/vagrant/.ivy2/cache/org.apache.spark/spark-catalyst_2.10/jars/spark-catalyst_2.10-1.3.0.jar, /home/vagrant/.ivy2/cache/org.scalamacros/quasiquotes_2.10/jars/quasiquotes_2.10-2.0.1.jar, /home/vagrant/.ivy2/cache/com.twitter/parquet-column/jars/parquet-column-1.6.0rc3.jar, /home/vagrant/.ivy2/cache/com.twitter/parquet-common/jars/parquet-common-1.6.0rc3.jar, /home/vagrant/.ivy2/cache/com.twitter/parquet-encoding/jars/parquet-encoding-1.6.0rc3.jar, /home/vagrant/.ivy2/cache/com.twitter/parquet-generator/jars/parquet-generator-1.6.0rc3.jar, /home/vagrant/.ivy2/cache/commons-codec/commons-codec/jars/commons-codec-1.5.jar, /home/vagrant/.ivy2/cache/com.twitter/parquet-hadoop/jars/parquet-hadoop-1.6.0rc3.jar, /home/vagrant/.ivy2/cache/com.twitter/parquet-format/jars/parquet-format-2.2.0-rc1.jar, /home/vagrant/.ivy2/cache/com.twitter/parquet-jackson/jars/parquet-jackson-1.6.0rc3.jar, /home/vagrant/.ivy2/cache/org.codehaus.jackson/jackson-mapper-asl/jars/jackson-mapper-asl-1.9.11.jar, /home/vagrant/.ivy2/cache/org.codehaus.jackson/jackson-core-asl/jars/jackson-core-asl-1.9.11.jar, /home/vagrant/.ivy2/cache/org.jodd/jodd-core/jars/jodd-core-3.6.3.jar, /home/vagrant/.ivy2/cache/org.apache.spark/spark-bagel_2.10/jars/spark-bagel_2.10-1.3.0.jar, /home/vagrant/.ivy2/cache/org.apache.spark/spark-mllib_2.10/jars/spark-mllib_2.10-1.3.0.jar, /home/vagrant/.ivy2/cache/org.apache.spark/spark-streaming_2.10/jars/spark-streaming_2.10-1.3.0.jar, /home/vagrant/.ivy2/cache/org.apache.spark/spark-graphx_2.10/jars/spark-graphx_2.10-1.3.0.jar, /home/vagrant/.ivy2/cache/org.jblas/jblas/jars/jblas-1.2.3.jar, /home/vagrant/.ivy2/cache/org.scalanlp/breeze_2.10/jars/breeze_2.10-0.11.1.jar, /home/vagrant/.ivy2/cache/org.scalanlp/breeze-macros_2.10/jars/breeze-macros_2.10-0.11.1.jar, /home/vagrant/.ivy2/cache/com.github.fommil.netlib/core/jars/core-1.1.2.jar, /home/vagrant/.ivy2/cache/net.sourceforge.f2j/arpack_combined_all/jars/arpack_combined_all-0.1-javadoc.jar, /home/vagrant/.ivy2/cache/net.sourceforge.f2j/arpack_combined_all/jars/arpack_combined_all-0.1.jar, /home/vagrant/.ivy2/cache/net.sf.opencsv/opencsv/jars/opencsv-2.3.jar, /home/vagrant/.ivy2/cache/com.github.rwl/jtransforms/jars/jtransforms-2.4.0.jar, /home/vagrant/.ivy2/cache/org.spire-math/spire_2.10/jars/spire_2.10-0.7.4.jar, /home/vagrant/.ivy2/cache/org.spire-math/spire-macros_2.10/jars/spire-macros_2.10-0.7.4.jar, /home/vagrant/.ivy2/cache/sh.jove/jove-bridge_2.10/jars/jove-bridge_2.10-0.1.1-1-SNAPSHOT.jar, /home/vagrant/.ivy2/cache/org.apache.spark/spark-repl_2.10/jars/spark-repl_2.10-1.3.0.jar, /home/vagrant/.ivy2/cache/org.scala-lang/jline/jars/jline-2.10.4.jar, /home/vagrant/.ivy2/cache/org.fusesource.jansi/jansi/jars/jansi-1.4.jar, /home/vagrant/.ivy2/cache/org.apache.spark/spark-core_2.10/jars/spark-core_2.10-1.3.0.jar, /home/vagrant/.ivy2/cache/com.twitter/chill_2.10/jars/chill_2.10-0.5.0.jar, /home/vagrant/.ivy2/cache/com.twitter/chill-java/jars/chill-java-0.5.0.jar, /home/vagrant/.ivy2/cache/com.esotericsoftware.kryo/kryo/bundles/kryo-2.21.jar, /home/vagrant/.ivy2/cache/com.esotericsoftware.reflectasm/reflectasm/jars/reflectasm-1.07-shaded.jar, /home/vagrant/.ivy2/cache/com.esotericsoftware.minlog/minlog/jars/minlog-1.2.jar, /home/vagrant/.ivy2/cache/org.objenesis/objenesis/jars/objenesis-1.2.jar, /home/vagrant/.ivy2/cache/org.apache.hadoop/hadoop-client/jars/hadoop-client-2.2.0.jar, /home/vagrant/.ivy2/cache/org.apache.hadoop/hadoop-common/jars/hadoop-common-2.2.0.jar, /home/vagrant/.ivy2/cache/org.apache.hadoop/hadoop-annotations/jars/hadoop-annotations-2.2.0.jar, /home/vagrant/.ivy2/cache/com.google.code.findbugs/jsr305/jars/jsr305-1.3.9.jar, /home/vagrant/.ivy2/cache/commons-cli/commons-cli/jars/commons-cli-1.2.jar, /home/vagrant/.ivy2/cache/org.apache.commons/commons-math/jars/commons-math-2.1.jar, /home/vagrant/.ivy2/cache/xmlenc/xmlenc/jars/xmlenc-0.52.jar, /home/vagrant/.ivy2/cache/commons-httpclient/commons-httpclient/jars/commons-httpclient-3.1.jar, /home/vagrant/.ivy2/cache/commons-logging/commons-logging/jars/commons-logging-1.1.1.jar, /home/vagrant/.ivy2/cache/commons-net/commons-net/jars/commons-net-3.1.jar, /home/vagrant/.ivy2/cache/log4j/log4j/bundles/log4j-1.2.17.jar, /home/vagrant/.ivy2/cache/commons-lang/commons-lang/jars/commons-lang-2.5.jar, /home/vagrant/.ivy2/cache/commons-configuration/commons-configuration/jars/commons-configuration-1.6.jar, /home/vagrant/.ivy2/cache/commons-collections/commons-collections/jars/commons-collections-3.2.1.jar, /home/vagrant/.ivy2/cache/commons-digester/commons-digester/jars/commons-digester-1.8.jar, /home/vagrant/.ivy2/cache/commons-beanutils/commons-beanutils/jars/commons-beanutils-1.7.0.jar, /home/vagrant/.ivy2/cache/commons-beanutils/commons-beanutils-core/jars/commons-beanutils-core-1.8.0.jar, /home/vagrant/.ivy2/cache/org.apache.avro/avro/jars/avro-1.7.4.jar, /home/vagrant/.ivy2/cache/org.apache.commons/commons-compress/jars/commons-compress-1.4.1.jar, /home/vagrant/.ivy2/cache/org.tukaani/xz/jars/xz-1.0.jar, /home/vagrant/.ivy2/cache/com.google.protobuf/protobuf-java/bundles/protobuf-java-2.5.0.jar, /home/vagrant/.ivy2/cache/org.apache.hadoop/hadoop-auth/jars/hadoop-auth-2.2.0.jar, /home/vagrant/.ivy2/cache/org.apache.hadoop/hadoop-hdfs/jars/hadoop-hdfs-2.2.0.jar, /home/vagrant/.ivy2/cache/org.mortbay.jetty/jetty-util/jars/jetty-util-6.1.26.jar, /home/vagrant/.ivy2/cache/org.apache.hadoop/hadoop-mapreduce-client-app/jars/hadoop-mapreduce-client-app-2.2.0.jar, /home/vagrant/.ivy2/cache/org.apache.hadoop/hadoop-mapreduce-client-common/jars/hadoop-mapreduce-client-common-2.2.0.jar, /home/vagrant/.ivy2/cache/org.apache.hadoop/hadoop-yarn-common/jars/hadoop-yarn-common-2.2.0.jar, /home/vagrant/.ivy2/cache/org.apache.hadoop/hadoop-yarn-api/jars/hadoop-yarn-api-2.2.0.jar, /home/vagrant/.ivy2/cache/com.google.inject/guice/jars/guice-3.0.jar, /home/vagrant/.ivy2/cache/javax.inject/javax.inject/jars/javax.inject-1.jar, /home/vagrant/.ivy2/cache/aopalliance/aopalliance/jars/aopalliance-1.0.jar, /home/vagrant/.ivy2/cache/org.sonatype.sisu.inject/cglib/jars/cglib-2.2.1-v20090111.jar, /home/vagrant/.ivy2/cache/asm/asm/jars/asm-3.2.jar, /home/vagrant/.ivy2/cache/com.sun.jersey.jersey-test-framework/jersey-test-framework-grizzly2/jars/jersey-test-framework-grizzly2-1.9.jar, /home/vagrant/.ivy2/cache/com.sun.jersey/jersey-server/bundles/jersey-server-1.9.jar, /home/vagrant/.ivy2/cache/com.sun.jersey/jersey-json/bundles/jersey-json-1.9.jar, /home/vagrant/.ivy2/cache/org.codehaus.jettison/jettison/bundles/jettison-1.1.jar, /home/vagrant/.ivy2/cache/stax/stax-api/jars/stax-api-1.0.1.jar, /home/vagrant/.ivy2/cache/com.sun.xml.bind/jaxb-impl/jars/jaxb-impl-2.2.3-1.jar, /home/vagrant/.ivy2/cache/javax.xml.bind/jaxb-api/jars/jaxb-api-2.2.2.jar, /home/vagrant/.ivy2/cache/javax.activation/activation/jars/activation-1.1.jar, /home/vagrant/.ivy2/cache/org.codehaus.jackson/jackson-jaxrs/jars/jackson-jaxrs-1.8.8.jar, /home/vagrant/.ivy2/cache/org.codehaus.jackson/jackson-xc/jars/jackson-xc-1.8.8.jar, /home/vagrant/.ivy2/cache/com.sun.jersey.contribs/jersey-guice/jars/jersey-guice-1.9.jar, /home/vagrant/.ivy2/cache/org.apache.hadoop/hadoop-yarn-client/jars/hadoop-yarn-client-2.2.0.jar, /home/vagrant/.ivy2/cache/org.apache.hadoop/hadoop-mapreduce-client-core/jars/hadoop-mapreduce-client-core-2.2.0.jar, /home/vagrant/.ivy2/cache/org.apache.hadoop/hadoop-yarn-server-common/jars/hadoop-yarn-server-common-2.2.0.jar, /home/vagrant/.ivy2/cache/org.apache.hadoop/hadoop-mapreduce-client-shuffle/jars/hadoop-mapreduce-client-shuffle-2.2.0.jar, /home/vagrant/.ivy2/cache/org.apache.hadoop/hadoop-mapreduce-client-jobclient/jars/hadoop-mapreduce-client-jobclient-2.2.0.jar, /home/vagrant/.ivy2/cache/org.apache.spark/spark-network-common_2.10/jars/spark-network-common_2.10-1.3.0.jar, /home/vagrant/.ivy2/cache/io.netty/netty-all/jars/netty-all-4.0.23.Final.jar, /home/vagrant/.ivy2/cache/org.spark-project.spark/unused/jars/unused-1.0.0.jar, /home/vagrant/.ivy2/cache/org.apache.spark/spark-network-shuffle_2.10/jars/spark-network-shuffle_2.10-1.3.0.jar, /home/vagrant/.ivy2/cache/net.java.dev.jets3t/jets3t/jars/jets3t-0.7.1.jar, /home/vagrant/.ivy2/cache/org.apache.curator/curator-recipes/bundles/curator-recipes-2.4.0.jar, /home/vagrant/.ivy2/cache/org.apache.curator/curator-framework/bundles/curator-framework-2.4.0.jar, /home/vagrant/.ivy2/cache/org.apache.curator/curator-client/bundles/curator-client-2.4.0.jar, /home/vagrant/.ivy2/cache/org.apache.zookeeper/zookeeper/jars/zookeeper-3.4.5.jar, /home/vagrant/.ivy2/cache/jline/jline/jars/jline-0.9.94.jar, /home/vagrant/.ivy2/cache/com.google.guava/guava/bundles/guava-14.0.1.jar, /home/vagrant/.ivy2/cache/org.eclipse.jetty.orbit/javax.servlet/orbits/javax.servlet-3.0.0.v201112011016.jar, /home/vagrant/.ivy2/cache/org.apache.commons/commons-lang3/jars/commons-lang3-3.3.2.jar, /home/vagrant/.ivy2/cache/org.apache.commons/commons-math3/jars/commons-math3-3.1.1.jar, /home/vagrant/.ivy2/cache/org.slf4j/slf4j-api/jars/slf4j-api-1.7.10.jar, /home/vagrant/.ivy2/cache/org.slf4j/jul-to-slf4j/jars/jul-to-slf4j-1.7.10.jar, /home/vagrant/.ivy2/cache/org.slf4j/jcl-over-slf4j/jars/jcl-over-slf4j-1.7.10.jar, /home/vagrant/.ivy2/cache/org.slf4j/slf4j-log4j12/jars/slf4j-log4j12-1.7.10.jar, /home/vagrant/.ivy2/cache/com.ning/compress-lzf/bundles/compress-lzf-1.0.0.jar, /home/vagrant/.ivy2/cache/org.xerial.snappy/snappy-java/bundles/snappy-java-1.1.1.6.jar, /home/vagrant/.ivy2/cache/net.jpountz.lz4/lz4/jars/lz4-1.2.0.jar, /home/vagrant/.ivy2/cache/org.roaringbitmap/RoaringBitmap/bundles/RoaringBitmap-0.4.5.jar, /home/vagrant/.ivy2/cache/org.spark-project.akka/akka-remote_2.10/jars/akka-remote_2.10-2.3.4-spark.jar, /home/vagrant/.ivy2/cache/org.spark-project.akka/akka-actor_2.10/jars/akka-actor_2.10-2.3.4-spark.jar, /home/vagrant/.ivy2/cache/com.typesafe/config/bundles/config-1.2.1.jar, /home/vagrant/.ivy2/cache/io.netty/netty/bundles/netty-3.8.0.Final.jar, /home/vagrant/.ivy2/cache/org.spark-project.protobuf/protobuf-java/bundles/protobuf-java-2.5.0-spark.jar, /home/vagrant/.ivy2/cache/org.uncommons.maths/uncommons-maths/jars/uncommons-maths-1.2.2a.jar, /home/vagrant/.ivy2/cache/org.spark-project.akka/akka-slf4j_2.10/jars/akka-slf4j_2.10-2.3.4-spark.jar, /home/vagrant/.ivy2/cache/org.json4s/json4s-jackson_2.10/jars/json4s-jackson_2.10-3.2.10.jar, /home/vagrant/.ivy2/cache/org.json4s/json4s-core_2.10/jars/json4s-core_2.10-3.2.10.jar, /home/vagrant/.ivy2/cache/org.json4s/json4s-ast_2.10/jars/json4s-ast_2.10-3.2.10.jar, /home/vagrant/.ivy2/cache/com.thoughtworks.paranamer/paranamer/jars/paranamer-2.6.jar, /home/vagrant/.ivy2/cache/org.scala-lang/scalap/jars/scalap-2.10.0.jar, /home/vagrant/.ivy2/cache/com.fasterxml.jackson.core/jackson-databind/bundles/jackson-databind-2.4.4.jar, /home/vagrant/.ivy2/cache/com.fasterxml.jackson.core/jackson-core/bundles/jackson-core-2.4.4.jar, /home/vagrant/.ivy2/cache/org.apache.mesos/mesos/jars/mesos-0.21.0-shaded-protobuf.jar, /home/vagrant/.ivy2/cache/com.clearspring.analytics/stream/jars/stream-2.7.0.jar, /home/vagrant/.ivy2/cache/io.dropwizard.metrics/metrics-core/bundles/metrics-core-3.1.0.jar, /home/vagrant/.ivy2/cache/io.dropwizard.metrics/metrics-jvm/bundles/metrics-jvm-3.1.0.jar, /home/vagrant/.ivy2/cache/io.dropwizard.metrics/metrics-json/bundles/metrics-json-3.1.0.jar, /home/vagrant/.ivy2/cache/io.dropwizard.metrics/metrics-graphite/bundles/metrics-graphite-3.1.0.jar, /home/vagrant/.ivy2/cache/com.fasterxml.jackson.module/jackson-module-scala_2.10/bundles/jackson-module-scala_2.10-2.4.4.jar, /home/vagrant/.ivy2/cache/com.fasterxml.jackson.core/jackson-annotations/bundles/jackson-annotations-2.4.4.jar, /home/vagrant/.ivy2/cache/org.apache.ivy/ivy/jars/ivy-2.4.0.jar, /home/vagrant/.ivy2/cache/oro/oro/jars/oro-2.0.8.jar, /home/vagrant/.ivy2/cache/org.tachyonproject/tachyon-client/jars/tachyon-client-0.5.0.jar, /home/vagrant/.ivy2/cache/org.tachyonproject/tachyon/jars/tachyon-0.5.0.jar, /home/vagrant/.ivy2/cache/commons-io/commons-io/jars/commons-io-2.4.jar, /home/vagrant/.ivy2/cache/org.spark-project/pyrolite/jars/pyrolite-2.0.1.jar, /home/vagrant/.ivy2/cache/net.sf.py4j/py4j/jars/py4j-0.8.2.1.jar, /home/vagrant/.ivy2/cache/org.apache.spark/spark-sql_2.10/jars/spark-sql_2.10-1.3.0.jar, /home/vagrant/.ivy2/cache/org.apache.spark/spark-catalyst_2.10/jars/spark-catalyst_2.10-1.3.0.jar, /home/vagrant/.ivy2/cache/org.scalamacros/quasiquotes_2.10/jars/quasiquotes_2.10-2.0.1.jar, /home/vagrant/.ivy2/cache/com.twitter/parquet-column/jars/parquet-column-1.6.0rc3.jar, /home/vagrant/.ivy2/cache/com.twitter/parquet-common/jars/parquet-common-1.6.0rc3.jar, /home/vagrant/.ivy2/cache/com.twitter/parquet-encoding/jars/parquet-encoding-1.6.0rc3.jar, /home/vagrant/.ivy2/cache/com.twitter/parquet-generator/jars/parquet-generator-1.6.0rc3.jar, /home/vagrant/.ivy2/cache/commons-codec/commons-codec/jars/commons-codec-1.5.jar, /home/vagrant/.ivy2/cache/com.twitter/parquet-hadoop/jars/parquet-hadoop-1.6.0rc3.jar, /home/vagrant/.ivy2/cache/com.twitter/parquet-format/jars/parquet-format-2.2.0-rc1.jar, /home/vagrant/.ivy2/cache/com.twitter/parquet-jackson/jars/parquet-jackson-1.6.0rc3.jar, /home/vagrant/.ivy2/cache/org.codehaus.jackson/jackson-mapper-asl/jars/jackson-mapper-asl-1.9.11.jar, /home/vagrant/.ivy2/cache/org.codehaus.jackson/jackson-core-asl/jars/jackson-core-asl-1.9.11.jar, /home/vagrant/.ivy2/cache/org.jodd/jodd-core/jars/jodd-core-3.6.3.jar, /home/vagrant/.ivy2/cache/org.apache.spark/spark-bagel_2.10/jars/spark-bagel_2.10-1.3.0.jar, /home/vagrant/.ivy2/cache/org.apache.spark/spark-mllib_2.10/jars/spark-mllib_2.10-1.3.0.jar, /home/vagrant/.ivy2/cache/org.apache.spark/spark-streaming_2.10/jars/spark-streaming_2.10-1.3.0.jar, /home/vagrant/.ivy2/cache/org.apache.spark/spark-graphx_2.10/jars/spark-graphx_2.10-1.3.0.jar, /home/vagrant/.ivy2/cache/org.jblas/jblas/jars/jblas-1.2.3.jar, /home/vagrant/.ivy2/cache/org.scalanlp/breeze_2.10/jars/breeze_2.10-0.11.1.jar, /home/vagrant/.ivy2/cache/org.scalanlp/breeze-macros_2.10/jars/breeze-macros_2.10-0.11.1.jar, /home/vagrant/.ivy2/cache/com.github.fommil.netlib/core/jars/core-1.1.2.jar, /home/vagrant/.ivy2/cache/net.sourceforge.f2j/arpack_combined_all/jars/arpack_combined_all-0.1-javadoc.jar, /home/vagrant/.ivy2/cache/net.sourceforge.f2j/arpack_combined_all/jars/arpack_combined_all-0.1.jar, /home/vagrant/.ivy2/cache/net.sf.opencsv/opencsv/jars/opencsv-2.3.jar, /home/vagrant/.ivy2/cache/com.github.rwl/jtransforms/jars/jtransforms-2.4.0.jar, /home/vagrant/.ivy2/cache/org.spire-math/spire_2.10/jars/spire_2.10-0.7.4.jar, /home/vagrant/.ivy2/cache/org.spire-math/spire-macros_2.10/jars/spire-macros_2.10-0.7.4.jar, /home/vagrant/.ivy2/cache/sh.jove/jove-bridge_2.10/jars/jove-bridge_2.10-0.1.1-1-SNAPSHOT.jar, /home/vagrant/.ivy2/cache/org.apache.spark/spark-repl_2.10/jars/spark-repl_2.10-1.3.0.jar, /home/vagrant/.ivy2/cache/org.scala-lang/jline/jars/jline-2.10.4.jar, /home/vagrant/.ivy2/cache/org.fusesource.jansi/jansi/jars/jansi-1.4.jar, /home/vagrant/.ivy2/cache/org.apache.spark/spark-core_2.10/jars/spark-core_2.10-1.3.0.jar, /home/vagrant/.ivy2/cache/com.twitter/chill_2.10/jars/chill_2.10-0.5.0.jar, /home/vagrant/.ivy2/cache/com.twitter/chill-java/jars/chill-java-0.5.0.jar, /home/vagrant/.ivy2/cache/com.esotericsoftware.kryo/kryo/bundles/kryo-2.21.jar, /home/vagrant/.ivy2/cache/com.esotericsoftware.reflectasm/reflectasm/jars/reflectasm-1.07-shaded.jar, /home/vagrant/.ivy2/cache/com.esotericsoftware.minlog/minlog/jars/minlog-1.2.jar, /home/vagrant/.ivy2/cache/org.objenesis/objenesis/jars/objenesis-1.2.jar, /home/vagrant/.ivy2/cache/org.apache.hadoop/hadoop-client/jars/hadoop-client-2.2.0.jar, /home/vagrant/.ivy2/cache/org.apache.hadoop/hadoop-common/jars/hadoop-common-2.2.0.jar, /home/vagrant/.ivy2/cache/org.apache.hadoop/hadoop-annotations/jars/hadoop-annotations-2.2.0.jar, /home/vagrant/.ivy2/cache/com.google.code.findbugs/jsr305/jars/jsr305-1.3.9.jar, /home/vagrant/.ivy2/cache/commons-cli/commons-cli/jars/commons-cli-1.2.jar, /home/vagrant/.ivy2/cache/org.apache.commons/commons-math/jars/commons-math-2.1.jar, /home/vagrant/.ivy2/cache/xmlenc/xmlenc/jars/xmlenc-0.52.jar, /home/vagrant/.ivy2/cache/commons-httpclient/commons-httpclient/jars/commons-httpclient-3.1.jar, /home/vagrant/.ivy2/cache/commons-logging/commons-logging/jars/commons-logging-1.1.1.jar, /home/vagrant/.ivy2/cache/commons-net/commons-net/jars/commons-net-3.1.jar, /home/vagrant/.ivy2/cache/log4j/log4j/bundles/log4j-1.2.17.jar, /home/vagrant/.ivy2/cache/commons-lang/commons-lang/jars/commons-lang-2.5.jar, /home/vagrant/.ivy2/cache/commons-configuration/commons-configuration/jars/commons-configuration-1.6.jar, /home/vagrant/.ivy2/cache/commons-collections/commons-collections/jars/commons-collections-3.2.1.jar, /home/vagrant/.ivy2/cache/commons-digester/commons-digester/jars/commons-digester-1.8.jar, /home/vagrant/.ivy2/cache/commons-beanutils/commons-beanutils/jars/commons-beanutils-1.7.0.jar, /home/vagrant/.ivy2/cache/commons-beanutils/commons-beanutils-core/jars/commons-beanutils-core-1.8.0.jar, /home/vagrant/.ivy2/cache/org.apache.avro/avro/jars/avro-1.7.4.jar, /home/vagrant/.ivy2/cache/org.apache.commons/commons-compress/jars/commons-compress-1.4.1.jar, /home/vagrant/.ivy2/cache/org.tukaani/xz/jars/xz-1.0.jar, /home/vagrant/.ivy2/cache/com.google.protobuf/protobuf-java/bundles/protobuf-java-2.5.0.jar, /home/vagrant/.ivy2/cache/org.apache.hadoop/hadoop-auth/jars/hadoop-auth-2.2.0.jar, /home/vagrant/.ivy2/cache/org.apache.hadoop/hadoop-hdfs/jars/hadoop-hdfs-2.2.0.jar, /home/vagrant/.ivy2/cache/org.mortbay.jetty/jetty-util/jars/jetty-util-6.1.26.jar, /home/vagrant/.ivy2/cache/org.apache.hadoop/hadoop-mapreduce-client-app/jars/hadoop-mapreduce-client-app-2.2.0.jar, /home/vagrant/.ivy2/cache/org.apache.hadoop/hadoop-mapreduce-client-common/jars/hadoop-mapreduce-client-common-2.2.0.jar, /home/vagrant/.ivy2/cache/org.apache.hadoop/hadoop-yarn-common/jars/hadoop-yarn-common-2.2.0.jar, /home/vagrant/.ivy2/cache/org.apache.hadoop/hadoop-yarn-api/jars/hadoop-yarn-api-2.2.0.jar, /home/vagrant/.ivy2/cache/com.google.inject/guice/jars/guice-3.0.jar, /home/vagrant/.ivy2/cache/javax.inject/javax.inject/jars/javax.inject-1.jar, /home/vagrant/.ivy2/cache/aopalliance/aopalliance/jars/aopalliance-1.0.jar, /home/vagrant/.ivy2/cache/org.sonatype.sisu.inject/cglib/jars/cglib-2.2.1-v20090111.jar, /home/vagrant/.ivy2/cache/asm/asm/jars/asm-3.2.jar, /home/vagrant/.ivy2/cache/com.sun.jersey.jersey-test-framework/jersey-test-framework-grizzly2/jars/jersey-test-framework-grizzly2-1.9.jar, /home/vagrant/.ivy2/cache/com.sun.jersey/jersey-server/bundles/jersey-server-1.9.jar, /home/vagrant/.ivy2/cache/com.sun.jersey/jersey-json/bundles/jersey-json-1.9.jar, /home/vagrant/.ivy2/cache/org.codehaus.jettison/jettison/bundles/jettison-1.1.jar, /home/vagrant/.ivy2/cache/stax/stax-api/jars/stax-api-1.0.1.jar, /home/vagrant/.ivy2/cache/com.sun.xml.bind/jaxb-impl/jars/jaxb-impl-2.2.3-1.jar, /home/vagrant/.ivy2/cache/javax.xml.bind/jaxb-api/jars/jaxb-api-2.2.2.jar, /home/vagrant/.ivy2/cache/javax.activation/activation/jars/activation-1.1.jar, /home/vagrant/.ivy2/cache/org.codehaus.jackson/jackson-jaxrs/jars/jackson-jaxrs-1.8.8.jar, /home/vagrant/.ivy2/cache/org.codehaus.jackson/jackson-xc/jars/jackson-xc-1.8.8.jar, /home/vagrant/.ivy2/cache/com.sun.jersey.contribs/jersey-guice/jars/jersey-guice-1.9.jar, /home/vagrant/.ivy2/cache/org.apache.hadoop/hadoop-yarn-client/jars/hadoop-yarn-client-2.2.0.jar, /home/vagrant/.ivy2/cache/org.apache.hadoop/hadoop-mapreduce-client-core/jars/hadoop-mapreduce-client-core-2.2.0.jar, /home/vagrant/.ivy2/cache/org.apache.hadoop/hadoop-yarn-server-common/jars/hadoop-yarn-server-common-2.2.0.jar, /home/vagrant/.ivy2/cache/org.apache.hadoop/hadoop-mapreduce-client-shuffle/jars/hadoop-mapreduce-client-shuffle-2.2.0.jar, /home/vagrant/.ivy2/cache/org.apache.hadoop/hadoop-mapreduce-client-jobclient/jars/hadoop-mapreduce-client-jobclient-2.2.0.jar, /home/vagrant/.ivy2/cache/org.apache.spark/spark-network-common_2.10/jars/spark-network-common_2.10-1.3.0.jar, /home/vagrant/.ivy2/cache/io.netty/netty-all/jars/netty-all-4.0.23.Final.jar, /home/vagrant/.ivy2/cache/org.spark-project.spark/unused/jars/unused-1.0.0.jar, /home/vagrant/.ivy2/cache/org.apache.spark/spark-network-shuffle_2.10/jars/spark-network-shuffle_2.10-1.3.0.jar, /home/vagrant/.ivy2/cache/net.java.dev.jets3t/jets3t/jars/jets3t-0.7.1.jar, /home/vagrant/.ivy2/cache/org.apache.curator/curator-recipes/bundles/curator-recipes-2.4.0.jar, /home/vagrant/.ivy2/cache/org.apache.curator/curator-framework/bundles/curator-framework-2.4.0.jar, /home/vagrant/.ivy2/cache/org.apache.curator/curator-client/bundles/curator-client-2.4.0.jar, /home/vagrant/.ivy2/cache/org.apache.zookeeper/zookeeper/jars/zookeeper-3.4.5.jar, /home/vagrant/.ivy2/cache/jline/jline/jars/jline-0.9.94.jar, /home/vagrant/.ivy2/cache/com.google.guava/guava/bundles/guava-14.0.1.jar, /home/vagrant/.ivy2/cache/org.eclipse.jetty.orbit/javax.servlet/orbits/javax.servlet-3.0.0.v201112011016.jar, /home/vagrant/.ivy2/cache/org.apache.commons/commons-lang3/jars/commons-lang3-3.3.2.jar, /home/vagrant/.ivy2/cache/org.apache.commons/commons-math3/jars/commons-math3-3.1.1.jar, /home/vagrant/.ivy2/cache/org.slf4j/slf4j-api/jars/slf4j-api-1.7.10.jar, /home/vagrant/.ivy2/cache/org.slf4j/jul-to-slf4j/jars/jul-to-slf4j-1.7.10.jar, /home/vagrant/.ivy2/cache/org.slf4j/jcl-over-slf4j/jars/jcl-over-slf4j-1.7.10.jar, /home/vagrant/.ivy2/cache/org.slf4j/slf4j-log4j12/jars/slf4j-log4j12-1.7.10.jar, /home/vagrant/.ivy2/cache/com.ning/compress-lzf/bundles/compress-lzf-1.0.0.jar, /home/vagrant/.ivy2/cache/org.xerial.snappy/snappy-java/bundles/snappy-java-1.1.1.6.jar, /home/vagrant/.ivy2/cache/net.jpountz.lz4/lz4/jars/lz4-1.2.0.jar, /home/vagrant/.ivy2/cache/org.roaringbitmap/RoaringBitmap/bundles/RoaringBitmap-0.4.5.jar, /home/vagrant/.ivy2/cache/org.spark-project.akka/akka-remote_2.10/jars/akka-remote_2.10-2.3.4-spark.jar, /home/vagrant/.ivy2/cache/org.spark-project.akka/akka-actor_2.10/jars/akka-actor_2.10-2.3.4-spark.jar, /home/vagrant/.ivy2/cache/com.typesafe/config/bundles/config-1.2.1.jar, /home/vagrant/.ivy2/cache/io.netty/netty/bundles/netty-3.8.0.Final.jar, /home/vagrant/.ivy2/cache/org.spark-project.protobuf/protobuf-java/bundles/protobuf-java-2.5.0-spark.jar, /home/vagrant/.ivy2/cache/org.uncommons.maths/uncommons-maths/jars/uncommons-maths-1.2.2a.jar, /home/vagrant/.ivy2/cache/org.spark-project.akka/akka-slf4j_2.10/jars/akka-slf4j_2.10-2.3.4-spark.jar, /home/vagrant/.ivy2/cache/org.json4s/json4s-jackson_2.10/jars/json4s-jackson_2.10-3.2.10.jar, /home/vagrant/.ivy2/cache/org.json4s/json4s-core_2.10/jars/json4s-core_2.10-3.2.10.jar, /home/vagrant/.ivy2/cache/org.json4s/json4s-ast_2.10/jars/json4s-ast_2.10-3.2.10.jar, /home/vagrant/.ivy2/cache/com.thoughtworks.paranamer/paranamer/jars/paranamer-2.6.jar, /home/vagrant/.ivy2/cache/org.scala-lang/scalap/jars/scalap-2.10.0.jar, /home/vagrant/.ivy2/cache/com.fasterxml.jackson.core/jackson-databind/bundles/jackson-databind-2.4.4.jar, /home/vagrant/.ivy2/cache/com.fasterxml.jackson.core/jackson-core/bundles/jackson-core-2.4.4.jar, /home/vagrant/.ivy2/cache/org.apache.mesos/mesos/jars/mesos-0.21.0-shaded-protobuf.jar, /home/vagrant/.ivy2/cache/com.clearspring.analytics/stream/jars/stream-2.7.0.jar, /home/vagrant/.ivy2/cache/io.dropwizard.metrics/metrics-core/bundles/metrics-core-3.1.0.jar, /home/vagrant/.ivy2/cache/io.dropwizard.metrics/metrics-jvm/bundles/metrics-jvm-3.1.0.jar, /home/vagrant/.ivy2/cache/io.dropwizard.metrics/metrics-json/bundles/metrics-json-3.1.0.jar, /home/vagrant/.ivy2/cache/io.dropwizard.metrics/metrics-graphite/bundles/metrics-graphite-3.1.0.jar, /home/vagrant/.ivy2/cache/com.fasterxml.jackson.module/jackson-module-scala_2.10/bundles/jackson-module-scala_2.10-2.4.4.jar, /home/vagrant/.ivy2/cache/com.fasterxml.jackson.core/jackson-annotations/bundles/jackson-annotations-2.4.4.jar, /home/vagrant/.ivy2/cache/org.apache.ivy/ivy/jars/ivy-2.4.0.jar, /home/vagrant/.ivy2/cache/oro/oro/jars/oro-2.0.8.jar, /home/vagrant/.ivy2/cache/org.tachyonproject/tachyon-client/jars/tachyon-client-0.5.0.jar, /home/vagrant/.ivy2/cache/org.tachyonproject/tachyon/jars/tachyon-0.5.0.jar, /home/vagrant/.ivy2/cache/commons-io/commons-io/jars/commons-io-2.4.jar, /home/vagrant/.ivy2/cache/org.spark-project/pyrolite/jars/pyrolite-2.0.1.jar, /home/vagrant/.ivy2/cache/net.sf.py4j/py4j/jars/py4j-0.8.2.1.jar, /home/vagrant/.ivy2/cache/org.apache.spark/spark-sql_2.10/jars/spark-sql_2.10-1.3.0.jar, /home/vagrant/.ivy2/cache/org.apache.spark/spark-catalyst_2.10/jars/spark-catalyst_2.10-1.3.0.jar, /home/vagrant/.ivy2/cache/org.scalamacros/quasiquotes_2.10/jars/quasiquotes_2.10-2.0.1.jar, /home/vagrant/.ivy2/cache/com.twitter/parquet-column/jars/parquet-column-1.6.0rc3.jar, /home/vagrant/.ivy2/cache/com.twitter/parquet-common/jars/parquet-common-1.6.0rc3.jar, /home/vagrant/.ivy2/cache/com.twitter/parquet-encoding/jars/parquet-encoding-1.6.0rc3.jar, /home/vagrant/.ivy2/cache/com.twitter/parquet-generator/jars/parquet-generator-1.6.0rc3.jar, /home/vagrant/.ivy2/cache/commons-codec/commons-codec/jars/commons-codec-1.5.jar, /home/vagrant/.ivy2/cache/com.twitter/parquet-hadoop/jars/parquet-hadoop-1.6.0rc3.jar, /home/vagrant/.ivy2/cache/com.twitter/parquet-format/jars/parquet-format-2.2.0-rc1.jar, /home/vagrant/.ivy2/cache/com.twitter/parquet-jackson/jars/parquet-jackson-1.6.0rc3.jar, /home/vagrant/.ivy2/cache/org.codehaus.jackson/jackson-mapper-asl/jars/jackson-mapper-asl-1.9.11.jar, /home/vagrant/.ivy2/cache/org.codehaus.jackson/jackson-core-asl/jars/jackson-core-asl-1.9.11.jar, /home/vagrant/.ivy2/cache/org.jodd/jodd-core/jars/jodd-core-3.6.3.jar, /home/vagrant/.ivy2/cache/org.apache.spark/spark-bagel_2.10/jars/spark-bagel_2.10-1.3.0.jar, /home/vagrant/.ivy2/cache/org.apache.spark/spark-mllib_2.10/jars/spark-mllib_2.10-1.3.0.jar, /home/vagrant/.ivy2/cache/org.apache.spark/spark-streaming_2.10/jars/spark-streaming_2.10-1.3.0.jar, /home/vagrant/.ivy2/cache/org.apache.spark/spark-graphx_2.10/jars/spark-graphx_2.10-1.3.0.jar, /home/vagrant/.ivy2/cache/org.jblas/jblas/jars/jblas-1.2.3.jar, /home/vagrant/.ivy2/cache/org.scalanlp/breeze_2.10/jars/breeze_2.10-0.11.1.jar, /home/vagrant/.ivy2/cache/org.scalanlp/breeze-macros_2.10/jars/breeze-macros_2.10-0.11.1.jar, /home/vagrant/.ivy2/cache/com.github.fommil.netlib/core/jars/core-1.1.2.jar, /home/vagrant/.ivy2/cache/net.sourceforge.f2j/arpack_combined_all/jars/arpack_combined_all-0.1-javadoc.jar, /home/vagrant/.ivy2/cache/net.sourceforge.f2j/arpack_combined_all/jars/arpack_combined_all-0.1.jar, /home/vagrant/.ivy2/cache/net.sf.opencsv/opencsv/jars/opencsv-2.3.jar, /home/vagrant/.ivy2/cache/com.github.rwl/jtransforms/jars/jtransforms-2.4.0.jar, /home/vagrant/.ivy2/cache/org.spire-math/spire_2.10/jars/spire_2.10-0.7.4.jar, /home/vagrant/.ivy2/cache/org.spire-math/spire-macros_2.10/jars/spire-macros_2.10-0.7.4.jar, /home/vagrant/.ivy2/cache/org.scala-lang/scala-library/jars/scala-library-2.10.4.jar, /home/vagrant/.ivy2/cache/org.scala-lang/scala-compiler/jars/scala-compiler-2.10.4.jar, /home/vagrant/.ivy2/cache/org.scala-lang/scala-reflect/jars/scala-reflect-2.10.4.jar, /home/vagrant/.ivy2/cache/org.scala-lang/scala-library/jars/scala-library-2.10.4.jar, /home/vagrant/.ivy2/cache/org.scala-lang/scala-compiler/jars/scala-compiler-2.10.4.jar, /home/vagrant/.ivy2/cache/org.scala-lang/scala-reflect/jars/scala-reflect-2.10.4.jar, /home/vagrant/.ivy2/cache/org.scala-lang/scala-library/jars/scala-library-2.10.4.jar, /home/vagrant/.ivy2/cache/org.scala-lang/scala-compiler/jars/scala-compiler-2.10.4.jar, /home/vagrant/.ivy2/cache/org.scala-lang/scala-reflect/jars/scala-reflect-2.10.4.jar),\n  parent = sun.misc.Launcher$AppClassLoader@70dea4e,\n  resourceMap = Set(app.class.path, boot.class.path),\n  nativeTemp = /tmp/sbt_17e7d7e4\n)\n  root = sun.misc.Launcher$AppClassLoader@70dea4e\n  cp = Set(/home/vagrant/.ivy2/cache/com.twitter/parquet-jackson/jars/parquet-jackson-1.6.0rc3.jar, /home/vagrant/.ivy2/cache/org.scala-lang/scala-compiler/jars/scala-compiler-2.10.4.jar, /home/vagrant/.ivy2/cache/org.apache.curator/curator-framework/bundles/curator-framework-2.4.0.jar, /home/vagrant/.ivy2/cache/org.spark-project.akka/akka-slf4j_2.10/jars/akka-slf4j_2.10-2.3.4-spark.jar, /home/vagrant/.ivy2/cache/com.twitter/parquet-common/jars/parquet-common-1.6.0rc3.jar, /home/vagrant/.ivy2/cache/com.typesafe/config/bundles/config-1.2.1.jar, /home/vagrant/.ivy2/cache/org.apache.commons/commons-math3/jars/commons-math3-3.1.1.jar, /home/vagrant/.ivy2/cache/org.apache.commons/commons-math/jars/commons-math-2.1.jar, /home/vagrant/.ivy2/cache/org.spark-project/pyrolite/jars/pyrolite-2.0.1.jar, /home/vagrant/.ivy2/cache/org.fusesource.jansi/jansi/jars/jansi-1.4.jar, /home/vagrant/.ivy2/cache/commons-net/commons-net/jars/commons-net-2.2.jar, /home/vagrant/.ivy2/cache/org.apache.spark/spark-repl_2.10/jars/spark-repl_2.10-1.3.0.jar, /home/vagrant/.ivy2/cache/com.thoughtworks.paranamer/paranamer/jars/paranamer-2.6.jar, /home/vagrant/.ivy2/cache/org.scala-lang/scala-reflect/jars/scala-reflect-2.10.4.jar, /home/vagrant/.ivy2/cache/io.netty/netty/bundles/netty-3.8.0.Final.jar, /home/vagrant/.ivy2/cache/org.tachyonproject/tachyon-client/jars/tachyon-client-0.5.0.jar, /home/vagrant/.ivy2/cache/com.twitter/parquet-generator/jars/parquet-generator-1.6.0rc3.jar, /home/vagrant/.ivy2/cache/javax.activation/activation/jars/activation-1.1.jar, /home/vagrant/.ivy2/cache/com.twitter/parquet-encoding/jars/parquet-encoding-1.6.0rc3.jar, /home/vagrant/.ivy2/cache/org.apache.hadoop/hadoop-client/jars/hadoop-client-2.2.0.jar, /home/vagrant/.ivy2/cache/com.ning/compress-lzf/bundles/compress-lzf-1.0.0.jar, /home/vagrant/.ivy2/cache/org.scalanlp/breeze_2.10/jars/breeze_2.10-0.11.1.jar, /home/vagrant/.ivy2/cache/com.sun.jersey/jersey-server/bundles/jersey-server-1.9.jar, /home/vagrant/.ivy2/cache/net.sf.py4j/py4j/jars/py4j-0.8.2.1.jar, /home/vagrant/.ivy2/cache/org.apache.zookeeper/zookeeper/jars/zookeeper-3.4.5.jar, /home/vagrant/.ivy2/cache/org.apache.curator/curator-recipes/bundles/curator-recipes-2.4.0.jar, /home/vagrant/.ivy2/cache/org.codehaus.jettison/jettison/bundles/jettison-1.1.jar, /home/vagrant/.ivy2/cache/net.sourceforge.f2j/arpack_combined_all/jars/arpack_combined_all-0.1.jar, /home/vagrant/.ivy2/cache/org.apache.hadoop/hadoop-mapreduce-client-shuffle/jars/hadoop-mapreduce-client-shuffle-2.2.0.jar, /home/vagrant/.ivy2/cache/org.apache.hadoop/hadoop-yarn-server-common/jars/hadoop-yarn-server-common-2.2.0.jar, /home/vagrant/.ivy2/cache/io.dropwizard.metrics/metrics-core/bundles/metrics-core-3.1.0.jar, /home/vagrant/.ivy2/cache/commons-io/commons-io/jars/commons-io-2.4.jar, /home/vagrant/.ivy2/cache/com.clearspring.analytics/stream/jars/stream-2.7.0.jar, /home/vagrant/.ivy2/cache/org.objenesis/objenesis/jars/objenesis-1.2.jar, /home/vagrant/.ivy2/cache/commons-beanutils/commons-beanutils/jars/commons-beanutils-1.7.0.jar, /home/vagrant/.ivy2/cache/org.json4s/json4s-ast_2.10/jars/json4s-ast_2.10-3.2.10.jar, /home/vagrant/.ivy2/cache/org.roaringbitmap/RoaringBitmap/bundles/RoaringBitmap-0.4.5.jar, /home/vagrant/.ivy2/cache/org.slf4j/slf4j-api/jars/slf4j-api-1.7.10.jar, /home/vagrant/.ivy2/cache/org.apache.hadoop/hadoop-auth/jars/hadoop-auth-2.2.0.jar, /home/vagrant/.ivy2/cache/org.codehaus.jackson/jackson-mapper-asl/jars/jackson-mapper-asl-1.9.11.jar, /home/vagrant/.ivy2/cache/org.apache.hadoop/hadoop-mapreduce-client-core/jars/hadoop-mapreduce-client-core-2.2.0.jar, /home/vagrant/.ivy2/cache/commons-net/commons-net/jars/commons-net-3.1.jar, /home/vagrant/.ivy2/cache/org.apache.spark/spark-graphx_2.10/jars/spark-graphx_2.10-1.3.0.jar, /home/vagrant/.ivy2/cache/org.slf4j/jcl-over-slf4j/jars/jcl-over-slf4j-1.7.10.jar, /home/vagrant/.ivy2/cache/org.json4s/json4s-core_2.10/jars/json4s-core_2.10-3.2.10.jar, /home/vagrant/.ivy2/cache/org.apache.ivy/ivy/jars/ivy-2.4.0.jar, /home/vagrant/.ivy2/cache/commons-httpclient/commons-httpclient/jars/commons-httpclient-3.1.jar, /home/vagrant/.ivy2/cache/jline/jline/jars/jline-0.9.94.jar, /home/vagrant/.ivy2/cache/org.apache.spark/spark-network-common_2.10/jars/spark-network-common_2.10-1.3.0.jar, /home/vagrant/.ivy2/cache/org.jblas/jblas/jars/jblas-1.2.3.jar, /home/vagrant/.ivy2/cache/org.jodd/jodd-core/jars/jodd-core-3.6.3.jar, /home/vagrant/.ivy2/cache/org.apache.spark/spark-core_2.10/jars/spark-core_2.10-1.3.0.jar, /home/vagrant/.ivy2/cache/net.sourceforge.f2j/arpack_combined_all/jars/arpack_combined_all-0.1-javadoc.jar, /home/vagrant/.ivy2/cache/commons-lang/commons-lang/jars/commons-lang-2.5.jar, /home/vagrant/.ivy2/cache/io.dropwizard.metrics/metrics-graphite/bundles/metrics-graphite-3.1.0.jar, /home/vagrant/.ivy2/cache/com.esotericsoftware.kryo/kryo/bundles/kryo-2.21.jar, /home/vagrant/.ivy2/cache/org.scalanlp/breeze-macros_2.10/jars/breeze-macros_2.10-0.11.1.jar, /home/vagrant/.ivy2/cache/org.uncommons.maths/uncommons-maths/jars/uncommons-maths-1.2.2a.jar, /home/vagrant/.ivy2/cache/org.codehaus.jackson/jackson-xc/jars/jackson-xc-1.8.8.jar, /home/vagrant/.ivy2/cache/commons-collections/commons-collections/jars/commons-collections-3.2.1.jar, /home/vagrant/.ivy2/cache/org.mortbay.jetty/jetty-util/jars/jetty-util-6.1.26.jar, /home/vagrant/.ivy2/cache/com.twitter/parquet-column/jars/parquet-column-1.6.0rc3.jar, /home/vagrant/.ivy2/cache/org.apache.spark/spark-bagel_2.10/jars/spark-bagel_2.10-1.3.0.jar, /home/vagrant/.ivy2/cache/org.apache.hadoop/hadoop-mapreduce-client-jobclient/jars/hadoop-mapreduce-client-jobclient-2.2.0.jar, /home/vagrant/.ivy2/cache/net.sf.opencsv/opencsv/jars/opencsv-2.3.jar, /home/vagrant/.ivy2/cache/org.spire-math/spire_2.10/jars/spire_2.10-0.7.4.jar, /home/vagrant/.ivy2/cache/org.apache.spark/spark-network-shuffle_2.10/jars/spark-network-shuffle_2.10-1.3.0.jar, /home/vagrant/.ivy2/cache/org.scala-lang/scalap/jars/scalap-2.10.0.jar, /home/vagrant/.ivy2/cache/org.apache.commons/commons-compress/jars/commons-compress-1.4.1.jar, /home/vagrant/.ivy2/cache/org.sonatype.sisu.inject/cglib/jars/cglib-2.2.1-v20090111.jar, /home/vagrant/.ivy2/cache/org.spark-project.akka/akka-actor_2.10/jars/akka-actor_2.10-2.3.4-spark.jar, /home/vagrant/.ivy2/cache/org.apache.hadoop/hadoop-yarn-common/jars/hadoop-yarn-common-2.2.0.jar, /home/vagrant/.ivy2/cache/commons-cli/commons-cli/jars/commons-cli-1.2.jar, /home/vagrant/.ivy2/cache/sh.jove/jove-bridge_2.10/jars/jove-bridge_2.10-0.1.1-1-SNAPSHOT.jar, /home/vagrant/.ivy2/cache/org.apache.hadoop/hadoop-common/jars/hadoop-common-2.2.0.jar, /home/vagrant/.ivy2/cache/com.esotericsoftware.reflectasm/reflectasm/jars/reflectasm-1.07-shaded.jar, /home/vagrant/.ivy2/cache/org.apache.spark/spark-catalyst_2.10/jars/spark-catalyst_2.10-1.3.0.jar, /home/vagrant/.ivy2/cache/com.github.rwl/jtransforms/jars/jtransforms-2.4.0.jar, /home/vagrant/.ivy2/cache/asm/asm/jars/asm-3.2.jar, /home/vagrant/.ivy2/cache/commons-logging/commons-logging/jars/commons-logging-1.1.1.jar, /home/vagrant/.ivy2/cache/org.tukaani/xz/jars/xz-1.0.jar, /home/vagrant/.ivy2/cache/commons-beanutils/commons-beanutils-core/jars/commons-beanutils-core-1.8.0.jar, /home/vagrant/.ivy2/cache/io.dropwizard.metrics/metrics-json/bundles/metrics-json-3.1.0.jar, /home/vagrant/.ivy2/cache/org.json4s/json4s-jackson_2.10/jars/json4s-jackson_2.10-3.2.10.jar, /home/vagrant/.ivy2/cache/org.spark-project.protobuf/protobuf-java/bundles/protobuf-java-2.5.0-spark.jar, /home/vagrant/.ivy2/cache/com.twitter/parquet-format/jars/parquet-format-2.2.0-rc1.jar, /home/vagrant/.ivy2/cache/org.spark-project.spark/unused/jars/unused-1.0.0.jar, /home/vagrant/.ivy2/cache/com.fasterxml.jackson.core/jackson-annotations/bundles/jackson-annotations-2.4.4.jar, /home/vagrant/.ivy2/cache/commons-configuration/commons-configuration/jars/commons-configuration-1.6.jar, /home/vagrant/.ivy2/cache/commons-codec/commons-codec/jars/commons-codec-1.5.jar, /home/vagrant/.ivy2/cache/org.apache.curator/curator-client/bundles/curator-client-2.4.0.jar, /home/vagrant/.ivy2/cache/com.fasterxml.jackson.core/jackson-core/bundles/jackson-core-2.4.4.jar, /home/vagrant/.ivy2/cache/org.apache.hadoop/hadoop-mapreduce-client-common/jars/hadoop-mapreduce-client-common-2.2.0.jar, /home/vagrant/.ivy2/cache/org.apache.hadoop/hadoop-yarn-api/jars/hadoop-yarn-api-2.2.0.jar, /home/vagrant/.ivy2/cache/com.sun.jersey.jersey-test-framework/jersey-test-framework-grizzly2/jars/jersey-test-framework-grizzly2-1.9.jar, /home/vagrant/.ivy2/cache/com.sun.xml.bind/jaxb-impl/jars/jaxb-impl-2.2.3-1.jar, /home/vagrant/.ivy2/cache/org.apache.avro/avro/jars/avro-1.7.4.jar, /home/vagrant/.ivy2/cache/org.apache.spark/spark-streaming_2.10/jars/spark-streaming_2.10-1.3.0.jar, /home/vagrant/.ivy2/cache/org.scala-lang/scala-library/jars/scala-library-2.10.4.jar, /home/vagrant/.ivy2/cache/com.fasterxml.jackson.module/jackson-module-scala_2.10/bundles/jackson-module-scala_2.10-2.4.4.jar, /home/vagrant/.ivy2/cache/commons-digester/commons-digester/jars/commons-digester-1.8.jar, /home/vagrant/.ivy2/cache/com.google.inject/guice/jars/guice-3.0.jar, /home/vagrant/.ivy2/cache/com.sun.jersey/jersey-json/bundles/jersey-json-1.9.jar, /home/vagrant/.ivy2/cache/org.apache.spark/spark-sql_2.10/jars/spark-sql_2.10-1.3.0.jar, /home/vagrant/.ivy2/cache/com.fasterxml.jackson.core/jackson-databind/bundles/jackson-databind-2.4.4.jar, /home/vagrant/.ivy2/cache/org.apache.mesos/mesos/jars/mesos-0.21.0-shaded-protobuf.jar, /home/vagrant/.ivy2/cache/javax.inject/javax.inject/jars/javax.inject-1.jar, /home/vagrant/.ivy2/cache/log4j/log4j/bundles/log4j-1.2.17.jar, /home/vagrant/.ivy2/cache/com.google.protobuf/protobuf-java/bundles/protobuf-java-2.5.0.jar, /home/vagrant/.ivy2/cache/oro/oro/jars/oro-2.0.8.jar, /home/vagrant/.ivy2/cache/javax.xml.bind/jaxb-api/jars/jaxb-api-2.2.2.jar, /home/vagrant/.ivy2/cache/com.google.code.findbugs/jsr305/jars/jsr305-1.3.9.jar, /home/vagrant/.ivy2/cache/org.apache.commons/commons-lang3/jars/commons-lang3-3.3.2.jar, /home/vagrant/.ivy2/cache/xmlenc/xmlenc/jars/xmlenc-0.52.jar, /home/vagrant/.ivy2/cache/org.apache.hadoop/hadoop-yarn-server-nodemanager/jars/hadoop-yarn-server-nodemanager-2.2.0.jar, /home/vagrant/.ivy2/cache/org.apache.hadoop/hadoop-annotations/jars/hadoop-annotations-2.2.0.jar, /home/vagrant/.ivy2/cache/net.jpountz.lz4/lz4/jars/lz4-1.2.0.jar, /home/vagrant/.ivy2/cache/org.apache.hadoop/hadoop-mapreduce-client-app/jars/hadoop-mapreduce-client-app-2.2.0.jar, /home/vagrant/.ivy2/cache/org.codehaus.jackson/jackson-jaxrs/jars/jackson-jaxrs-1.8.8.jar, /home/vagrant/.ivy2/cache/stax/stax-api/jars/stax-api-1.0.1.jar, /home/vagrant/.ivy2/cache/org.apache.hadoop/hadoop-hdfs/jars/hadoop-hdfs-2.2.0.jar, /home/vagrant/.ivy2/cache/com.esotericsoftware.minlog/minlog/jars/minlog-1.2.jar, /home/vagrant/.ivy2/cache/org.xerial.snappy/snappy-java/bundles/snappy-java-1.1.1.6.jar, /home/vagrant/.ivy2/cache/org.spark-project.akka/akka-remote_2.10/jars/akka-remote_2.10-2.3.4-spark.jar, /home/vagrant/.ivy2/cache/org.apache.spark/spark-mllib_2.10/jars/spark-mllib_2.10-1.3.0.jar, /home/vagrant/.ivy2/cache/org.codehaus.jackson/jackson-core-asl/jars/jackson-core-asl-1.9.11.jar, /home/vagrant/.ivy2/cache/org.scalamacros/quasiquotes_2.10/jars/quasiquotes_2.10-2.0.1.jar, /home/vagrant/.ivy2/cache/io.dropwizard.metrics/metrics-jvm/bundles/metrics-jvm-3.1.0.jar, /home/vagrant/.ivy2/cache/com.twitter/parquet-hadoop/jars/parquet-hadoop-1.6.0rc3.jar, /home/vagrant/.ivy2/cache/org.spire-math/spire-macros_2.10/jars/spire-macros_2.10-0.7.4.jar, /home/vagrant/.ivy2/cache/org.scala-lang/jline/jars/jline-2.10.4.jar, /home/vagrant/.ivy2/cache/org.eclipse.jetty.orbit/javax.servlet/orbits/javax.servlet-3.0.0.v201112011016.jar, /home/vagrant/.ivy2/cache/net.java.dev.jets3t/jets3t/jars/jets3t-0.7.1.jar, /home/vagrant/.ivy2/cache/org.apache.hadoop/hadoop-yarn-client/jars/hadoop-yarn-client-2.2.0.jar, /home/vagrant/.ivy2/cache/io.netty/netty-all/jars/netty-all-4.0.23.Final.jar, /home/vagrant/.ivy2/cache/com.twitter/chill-java/jars/chill-java-0.5.0.jar, /home/vagrant/.ivy2/cache/org.slf4j/jul-to-slf4j/jars/jul-to-slf4j-1.7.10.jar, /home/vagrant/.ivy2/cache/com.twitter/chill_2.10/jars/chill_2.10-0.5.0.jar, /home/vagrant/.ivy2/cache/com.google.guava/guava/bundles/guava-14.0.1.jar, /home/vagrant/.ivy2/cache/com.github.fommil.netlib/core/jars/core-1.1.2.jar, /home/vagrant/.ivy2/cache/aopalliance/aopalliance/jars/aopalliance-1.0.jar, /home/vagrant/.ivy2/cache/org.tachyonproject/tachyon/jars/tachyon-0.5.0.jar, /home/vagrant/.ivy2/cache/org.slf4j/slf4j-log4j12/jars/slf4j-log4j12-1.7.10.jar, /home/vagrant/.ivy2/cache/com.sun.jersey.contribs/jersey-guice/jars/jersey-guice-1.9.jar)\n)",
      "    org.apache.spark.scheduler.DAGScheduler.org$apache$spark$scheduler$DAGScheduler$$failJobAndIndependentStages(DAGScheduler.scala:1196)",
      "    org.apache.spark.scheduler.DAGScheduler$$anonfun$abortStage$1.apply(DAGScheduler.scala:1185)",
      "    org.apache.spark.scheduler.DAGScheduler$$anonfun$abortStage$1.apply(DAGScheduler.scala:1184)",
      "    scala.collection.mutable.ResizableArray$class.foreach(ResizableArray.scala:59)",
      "    scala.collection.mutable.ArrayBuffer.foreach(ArrayBuffer.scala:47)",
      "    org.apache.spark.scheduler.DAGScheduler.abortStage(DAGScheduler.scala:1184)",
      "    org.apache.spark.scheduler.DAGScheduler$$anonfun$handleTaskSetFailed$1.apply(DAGScheduler.scala:686)",
      "    org.apache.spark.scheduler.DAGScheduler$$anonfun$handleTaskSetFailed$1.apply(DAGScheduler.scala:686)",
      "    scala.Option.foreach(Option.scala:236)",
      "    org.apache.spark.scheduler.DAGScheduler.handleTaskSetFailed(DAGScheduler.scala:686)",
      "    org.apache.spark.scheduler.DAGSchedulerEventProcessLoop.onReceive(DAGScheduler.scala:1377)",
      "    org.apache.spark.scheduler.DAGSchedulerEventProcessLoop.onReceive(DAGScheduler.scala:1338)",
      "    org.apache.spark.util.EventLoop$$anon$1.run(EventLoop.scala:48)"
     ]
    }
   ],
   "source": [
    "allPosts.flatMap(Post.parse).take(4)"
   ]
  },
  {
   "cell_type": "code",
   "execution_count": 33,
   "metadata": {
    "collapsed": false
   },
   "outputs": [
    {
     "name": "stdout",
     "output_type": "stream",
     "text": []
    },
    {
     "name": "stderr",
     "output_type": "stream",
     "text": []
    },
    {
     "data": {
      "text/plain": [
       "Array(\"  <row AcceptedAnswerId=\"15\" AnswerCount=\"5\" Body=\"&lt;p&gt;How should I elicit prior distributions from experts when fitting a Bayesian model?&lt;/p&gt;&#10;\" CommentCount=\"1\" CreationDate=\"2010-07-19T19:12:12.510\" FavoriteCount=\"17\" Id=\"1\" LastActivityDate=\"2010-09-15T21:08:26.077\" OwnerUserId=\"8\" PostTypeId=\"1\" Score=\"26\" Tags=\"&lt;bayesian&gt;&lt;prior&gt;&lt;elicitation&gt;\" Title=\"Eliciting priors from experts\" ViewCount=\"1457\" />\")"
      ]
     },
     "execution_count": 33,
     "metadata": {},
     "output_type": "execute_result"
    }
   ],
   "source": [
    "val objData = allPosts.filter(line => line.startsWith(\"  <row \"))\n",
    "              ."
   ]
  },
  {
   "cell_type": "code",
   "execution_count": 45,
   "metadata": {
    "collapsed": false
   },
   "outputs": [
    {
     "name": "stdout",
     "output_type": "stream",
     "text": []
    },
    {
     "name": "stderr",
     "output_type": "stream",
     "text": []
    }
   ],
   "source": [
    "abstract class StackTable[T] {\n",
    "\n",
    "\n",
    "  def getDate(n: scala.xml.NodeSeq): Long = n.text match {\n",
    "    case \"\" => 0\n",
    "    case s => dateFormat.parse(s).getTime\n",
    "  }\n",
    "\n",
    "  def dateFormat = {\n",
    "    import java.text.SimpleDateFormat\n",
    "    import java.util.TimeZone\n",
    "    val f = new SimpleDateFormat(\"yyyy-MM-dd'T'HH:mm:ss.SSS\")\n",
    "    f.setTimeZone(TimeZone.getTimeZone(\"GMT\"))\n",
    "    f\n",
    "  }\n",
    "\n",
    "  def getInt(n: scala.xml.NodeSeq): Int = n.text match {\n",
    "    case \"\" => 0\n",
    "    case x => x.toInt\n",
    "  }\n",
    "\n",
    "  def parseXml(x: scala.xml.Elem): T\n",
    "\n",
    "  def parse(s: String): Option[T] =\n",
    "    if (s.startsWith(\"  <row \")) Some(parseXml(scala.xml.XML.loadString(s)))\n",
    "    else None\n",
    "}"
   ]
  },
  {
   "cell_type": "code",
   "execution_count": null,
   "metadata": {
    "collapsed": true
   },
   "outputs": [],
   "source": [
    "allPosts.map(\n",
    "_ => (_.favoriteCount, (_.)))\n",
    ".map({\n",
    "    case ()\n",
    "})"
   ]
  },
  {
   "cell_type": "code",
   "execution_count": null,
   "metadata": {
    "collapsed": true
   },
   "outputs": [],
   "source": [
    "val salesByCountry = (transactions.map(t => (t.userId, t.amount))\n",
    "                .join(users.map(u => (u.userId, u.country)))\n",
    "                .map({ \n",
    "                  case (userId: String, (amount: Int, country: String)) \n",
    "                      => (country, amount)\n",
    "                }) \n",
    "                .reduceByKey(_ + _)\n",
    "                .collect())"
   ]
  },
  {
   "cell_type": "code",
   "execution_count": 73,
   "metadata": {
    "collapsed": false
   },
   "outputs": [
    {
     "ename": "",
     "evalue": "",
     "output_type": "error",
     "traceback": [
      "parse error"
     ]
    },
    {
     "name": "stdout",
     "output_type": "stream",
     "text": []
    },
    {
     "name": "stderr",
     "output_type": "stream",
     "text": []
    }
   ],
   "source": [
    "//allUsers.flatMap(User.parse).take(10)"
   ]
  },
  {
   "cell_type": "code",
   "execution_count": 171,
   "metadata": {
    "collapsed": false
   },
   "outputs": [
    {
     "name": "stderr",
     "output_type": "stream",
     "text": []
    },
    {
     "name": "stdout",
     "output_type": "stream",
     "text": []
    },
    {
     "data": {
      "text/plain": [
       "Array((0,(232141,11828)), (1,(23800,702)), (2,(13064,187)), (3,(7811,79)), (4,(5321,52)), (5,(3753,28)), (6,(2900,15)), (7,(2370,22)), (8,(1785,10)), (9,(1865,6)), (10,(1423,12)), (11,(1052,9)), (12,(1189,5)), (13,(733,2)), (14,(822,5)), (15,(842,6)), (16,(688,0)), (17,(474,0)), (18,(698,1)), (19,(468,1)), (20,(327,1)), (21,(533,3)), (22,(453,1)), (23,(415,2)), (24,(204,0)), (25,(347,0)), (26,(311,5)), (27,(360,4)), (28,(206,1)), (29,(367,1)), (30,(218,1)), (31,(329,2)), (32,(66,0)), (33,(221,0)), (34,(164,0)), (35,(82,0)), (36,(213,0)), (37,(110,1)), (38,(320,2)), (39,(121,1)), (40,(119,0)), (41,(51,0)), (42,(52,0)), (44,(76,0)), (45,(64,0)), (47,(181,0)), (48,(103,0)), (49,(148,0)), (50,(53,0)), (52,(114,0)))"
      ]
     },
     "execution_count": 171,
     "metadata": {},
     "output_type": "execute_result"
    }
   ],
   "source": [
    "val top50 = allVoters.flatMap(Vote.parse).map({\n",
    "    vote => (vote.postId, \n",
    "             (if (vote.voteTypeId == 5) 1 else 0, \n",
    "              if (vote.voteTypeId == 2) 1 else 0,\n",
    "              if (vote.voteTypeId == 3) 1 else 0 ))\n",
    "    // (1, (1, 0, 1))\n",
    "}).reduceByKey(\n",
    "    (x,y)=>(x._1 + y._1, x._2 + y._2, x._3 + y._3)\n",
    "    //(1, (10, 7, 5))\n",
    ").map({\n",
    "    x => (x._2._1, (x._2._2, x._2._3))\n",
    "    // (10, (7, 5))\n",
    "}).reduceByKey(\n",
    "    (x, y) => (x._1 + y._1, x._2 + y._2)\n",
    "    // x (7,5) favoriate = 10\n",
    "    // y (6,7) favoriate = 10\n",
    "    // (10, (7+6, 5+7))\n",
    ").sortByKey(true).take(50)\n",
    "\n",
    "// .takeOrdered(50)(\n",
    "//     Ordering[Int].reverse.on(x => x._1)\n",
    "// ).map({\n",
    "//     x => (x._1, x._2._1 / (x._2._1 + x._2._2))\n",
    "// })"
   ]
  },
  {
   "cell_type": "code",
   "execution_count": null,
   "metadata": {
    "collapsed": true
   },
   "outputs": [],
   "source": []
  },
  {
   "cell_type": "code",
   "execution_count": 172,
   "metadata": {
    "collapsed": false
   },
   "outputs": [
    {
     "name": "stderr",
     "output_type": "stream",
     "text": []
    },
    {
     "name": "stdout",
     "output_type": "stream",
     "text": []
    },
    {
     "data": {
      "text/plain": [
       "Array((0,0.9515184306202837), (1,0.971349277609991), (2,0.9858878575201871), (3,0.9899873257287706), (4,0.990321980271729), (5,0.9925945517058979), (6,0.9948542024013722), (7,0.9908026755852842), (8,0.9944289693593314), (9,0.9967931587386424), (10,0.9916376306620209), (11,0.9915174363807728), (12,0.9958123953098827), (13,0.9972789115646259), (14,0.9939540507859734), (15,0.9929245283018868), (16,1.0), (17,1.0), (18,0.9985693848354793), (19,0.997867803837953), (20,0.9969512195121951), (21,0.9944029850746269), (22,0.9977973568281938), (23,0.9952038369304557), (24,1.0), (25,1.0), (26,0.9841772151898734), (27,0.989010989010989), (28,0.9951690821256038), (29,0.9972826086956522), (30,0.9954337899543378), (31,0.9939577039274925), (32,1.0), (33,1.0), (34,1.0), (35,1.0), (36,1.0), (37,0.990990990990991), (38,0.9937888198757764), (39,0.9918032786885246), (40,1.0), (41,1.0), (42,1.0), (44,1.0), (45,1.0), (47,1.0), (48,1.0), (49,1.0), (50,1.0), (52,1.0))"
      ]
     },
     "execution_count": 172,
     "metadata": {},
     "output_type": "execute_result"
    }
   ],
   "source": [
    "top50.map({\n",
    "    x => (x._1, x._2._1 / (x._2._1 + x._2._2).toDouble)\n",
    "})"
   ]
  },
  {
   "cell_type": "code",
   "execution_count": 183,
   "metadata": {
    "collapsed": false
   },
   "outputs": [
    {
     "ename": "",
     "evalue": "",
     "output_type": "error",
     "traceback": [
      "<console>:48: error: reassignment to val",
      "                  sum = sum + pair._1",
      "                      ^"
     ]
    },
    {
     "name": "stderr",
     "output_type": "stream",
     "text": []
    },
    {
     "name": "stdout",
     "output_type": "stream",
     "text": []
    }
   ],
   "source": [
    "for (pair <- top50) {\n",
    "    val sum = 0\n",
    "    sum = sum + pair._1\n",
    "}"
   ]
  },
  {
   "cell_type": "code",
   "execution_count": 194,
   "metadata": {
    "collapsed": false
   },
   "outputs": [
    {
     "name": "stdout",
     "output_type": "stream",
     "text": [
      "24.76\n"
     ]
    },
    {
     "name": "stderr",
     "output_type": "stream",
     "text": []
    }
   ],
   "source": [
    "var i = 0\n",
    "var sum = 0.0\n",
    "while (i < top50.length) {\n",
    "    sum += top50(i)._1\n",
    "    i += 1\n",
    "}\n",
    "println(sum/50.0)"
   ]
  },
  {
   "cell_type": "code",
   "execution_count": 185,
   "metadata": {
    "collapsed": false
   },
   "outputs": [
    {
     "name": "stdout",
     "output_type": "stream",
     "text": []
    },
    {
     "data": {
      "text/plain": [
       "1"
      ]
     },
     "execution_count": 185,
     "metadata": {},
     "output_type": "execute_result"
    },
    {
     "name": "stderr",
     "output_type": "stream",
     "text": []
    }
   ],
   "source": [
    "top50(1)._1"
   ]
  },
  {
   "cell_type": "code",
   "execution_count": null,
   "metadata": {
    "collapsed": true
   },
   "outputs": [],
   "source": []
  }
 ],
 "metadata": {
  "kernelspec": {
   "display_name": "Spark 1.3 (Scala 2.10)",
   "language": "scala",
   "name": "spark-1.3-scala-2.10"
  },
  "language_info": {
   "codemirror_mode": "text/x-scala",
   "file_extension": "scala",
   "mimetype": "text/x-scala",
   "name": "scala"
  }
 },
 "nbformat": 4,
 "nbformat_minor": 0
}
